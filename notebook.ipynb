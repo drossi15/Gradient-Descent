{
 "cells": [
  {
   "cell_type": "markdown",
   "metadata": {},
   "source": [
    "# My project for Optimization Course"
   ]
  },
  {
   "cell_type": "markdown",
   "metadata": {},
   "source": [
    "Multivariate linear regression implemented through solving an optimization problem using the gradient descent method and some of its variants.\n",
    "\n",
    "The dataset used was taken from Kaggle.com and concerns house prices in the New York area. The idea is to perform a linear regression using the price as the dependent variable and the number of bedrooms, number of bathrooms, and the size of the house as independent variables."
   ]
  },
  {
   "cell_type": "code",
   "execution_count": 1,
   "metadata": {},
   "outputs": [
    {
     "name": "stdout",
     "output_type": "stream",
     "text": [
      "                                         BROKERTITLE                TYPE   \n",
      "0        Brokered by Douglas Elliman  -111 Fifth Ave      Condo for sale  \\\n",
      "1                                Brokered by Serhant      Condo for sale   \n",
      "2                             Brokered by Sowae Corp      House for sale   \n",
      "3                                Brokered by COMPASS      Condo for sale   \n",
      "4  Brokered by Sotheby's International Realty - E...  Townhouse for sale   \n",
      "\n",
      "       PRICE  BEDS       BATH  PROPERTYSQFT   \n",
      "0     315000     2   2.000000        1400.0  \\\n",
      "1  195000000     7  10.000000       17545.0   \n",
      "2     260000     4   2.000000        2015.0   \n",
      "3      69000     3   1.000000         445.0   \n",
      "4   55000000     7   2.373861       14175.0   \n",
      "\n",
      "                                             ADDRESS                    STATE   \n",
      "0                               2 E 55th St Unit 803       New York, NY 10022  \\\n",
      "1  Central Park Tower Penthouse-217 W 57th New Yo...       New York, NY 10019   \n",
      "2                                   620 Sinclair Ave  Staten Island, NY 10312   \n",
      "3                            2 E 55th St Unit 908W33      Manhattan, NY 10022   \n",
      "4                                        5 E 64th St       New York, NY 10065   \n",
      "\n",
      "                                        MAIN_ADDRESS   \n",
      "0             2 E 55th St Unit 803New York, NY 10022  \\\n",
      "1  Central Park Tower Penthouse-217 W 57th New Yo...   \n",
      "2            620 Sinclair AveStaten Island, NY 10312   \n",
      "3         2 E 55th St Unit 908W33Manhattan, NY 10022   \n",
      "4                      5 E 64th StNew York, NY 10065   \n",
      "\n",
      "  ADMINISTRATIVE_AREA_LEVEL_2  LOCALITY      SUBLOCALITY       STREET_NAME   \n",
      "0             New York County  New York        Manhattan  East 55th Street  \\\n",
      "1               United States  New York  New York County          New York   \n",
      "2               United States  New York  Richmond County     Staten Island   \n",
      "3               United States  New York  New York County          New York   \n",
      "4               United States  New York  New York County          New York   \n",
      "\n",
      "          LONG_NAME                                  FORMATTED_ADDRESS   \n",
      "0   Regis Residence  Regis Residence, 2 E 55th St #803, New York, N...  \\\n",
      "1  West 57th Street             217 W 57th St, New York, NY 10019, USA   \n",
      "2   Sinclair Avenue     620 Sinclair Ave, Staten Island, NY 10312, USA   \n",
      "3  East 55th Street               2 E 55th St, New York, NY 10022, USA   \n",
      "4  East 64th Street               5 E 64th St, New York, NY 10065, USA   \n",
      "\n",
      "    LATITUDE  LONGITUDE  \n",
      "0  40.761255 -73.974483  \n",
      "1  40.766393 -73.980991  \n",
      "2  40.541805 -74.196109  \n",
      "3  40.761398 -73.974613  \n",
      "4  40.767224 -73.969856  \n"
     ]
    }
   ],
   "source": [
    "\n",
    "%matplotlib inline\n",
    "import pandas as pd\n",
    "import numpy as np\n",
    "import matplotlib.pyplot as plt\n",
    "\n",
    "df = pd.read_csv(\"dataset/NY-House-Dataset.csv\")\n",
    "print(df.head())\n",
    "\n"
   ]
  },
  {
   "cell_type": "markdown",
   "metadata": {},
   "source": [
    "1) Data Cleaning\n"
   ]
  },
  {
   "cell_type": "code",
   "execution_count": 2,
   "metadata": {},
   "outputs": [
    {
     "name": "stdout",
     "output_type": "stream",
     "text": [
      "<bound method NDFrame.head of         PRICE  BEDS  BATH  PROPERTYSQFT\n",
      "0      315000     2   2.0   1400.000000\n",
      "2      260000     4   2.0   2015.000000\n",
      "3       69000     3   1.0    445.000000\n",
      "6      899500     2   2.0   2184.207862\n",
      "8      265000     1   1.0    750.000000\n",
      "...       ...   ...   ...           ...\n",
      "4796   599000     1   1.0   2184.207862\n",
      "4797   245000     1   1.0   2184.207862\n",
      "4798  1275000     1   1.0   2184.207862\n",
      "4799   598125     2   1.0    655.000000\n",
      "4800   349000     1   1.0    750.000000\n",
      "\n",
      "[3659 rows x 4 columns]>\n"
     ]
    }
   ],
   "source": [
    "#ELIMINO LE COLONNE NON DESIDERATE\n",
    "\n",
    "columns_to_drop = [\"ADDRESS\", \"STATE\", \"MAIN_ADDRESS\", \"ADMINISTRATIVE_AREA_LEVEL_2\", \n",
    "                   \"LOCALITY\", \"STREET_NAME\", \"LONG_NAME\", \"FORMATTED_ADDRESS\", \n",
    "                   \"LATITUDE\", \"LONGITUDE\",\"TYPE\",\"SUBLOCALITY\",\"BROKERTITLE\"]\n",
    "df_filtered = df.drop(columns=columns_to_drop)\n",
    "\n",
    "\n",
    "#FILTRO GLI OUTLIER\n",
    "\n",
    "vars = [\"PRICE\", \"BEDS\", \"BATH\", \"PROPERTYSQFT\"]\n",
    "#df_filtered = df.copy()\n",
    "\n",
    "# Filtra i valori anomali utilizzando il concetto di IQR\n",
    "for var in vars:\n",
    "    Q1 = df_filtered[var].quantile(0.25)\n",
    "    Q3 = df_filtered[var].quantile(0.75)\n",
    "    \n",
    "    IQR = Q3 - Q1\n",
    "    lower_limit = Q1 - 1.5 * IQR\n",
    "    upper_limit = Q3 + 1.5 * IQR\n",
    "    \n",
    "    df_filtered = df_filtered[(df_filtered[var] >= lower_limit) & (df_filtered[var] <= upper_limit)]\n",
    "    \n",
    "print(df_filtered.head)\n",
    "    \n"
   ]
  },
  {
   "cell_type": "markdown",
   "metadata": {},
   "source": [
    "Regression Model:\n",
    "\n",
    "$y = w_0 + w_1 x1 + w_2 x2 + w_3 x3$\n",
    "\n",
    "In this case:\n",
    "\n",
    "$PRICE = w_0 + w_1 BEDS + w_2 BATH + w_3 PROPERTYSQFT$\n",
    "\n"
   ]
  },
  {
   "cell_type": "code",
   "execution_count": 3,
   "metadata": {},
   "outputs": [],
   "source": [
    "def standardize(x):\n",
    "    \"\"\"Standardize the original data points (mean 0 and std dev 1).\"\"\"\n",
    "    x = x - np.mean(x)\n",
    "    x = x / np.std(x)\n",
    "    return x\n",
    "\n",
    "def build_model_data(x, y):\n",
    "    \"\"\"Get regression data in matrix form.\"\"\"\n",
    "    b = y\n",
    "    num_samples = len(b)\n",
    "    A = np.c_[np.ones(num_samples), x]\n",
    "    return A, b\n"
   ]
  },
  {
   "cell_type": "code",
   "execution_count": 36,
   "metadata": {},
   "outputs": [
    {
     "name": "stdout",
     "output_type": "stream",
     "text": [
      "      BEDS  BATH  PROPERTYSQFT\n",
      "0        2   2.0   1400.000000\n",
      "2        4   2.0   2015.000000\n",
      "3        3   1.0    445.000000\n",
      "6        2   2.0   2184.207862\n",
      "8        1   1.0    750.000000\n",
      "...    ...   ...           ...\n",
      "4796     1   1.0   2184.207862\n",
      "4797     1   1.0   2184.207862\n",
      "4798     1   1.0   2184.207862\n",
      "4799     2   1.0    655.000000\n",
      "4800     1   1.0    750.000000\n",
      "\n",
      "[3659 rows x 3 columns]\n",
      "0        315000\n",
      "2        260000\n",
      "3         69000\n",
      "6        899500\n",
      "8        265000\n",
      "         ...   \n",
      "4796     599000\n",
      "4797     245000\n",
      "4798    1275000\n",
      "4799     598125\n",
      "4800     349000\n",
      "Name: PRICE, Length: 3659, dtype: int64\n"
     ]
    }
   ],
   "source": [
    "\n",
    "features = df_filtered[['BEDS', 'BATH', 'PROPERTYSQFT']]\n",
    "prices = df_filtered['PRICE']\n",
    "print(features)\n",
    "print(prices)\n",
    "\n",
    "A, b = build_model_data(standardize(features), standardize(prices))\n",
    "A = np.array(A)\n",
    "b = np.array(b)\n",
    "\n",
    "\n"
   ]
  },
  {
   "cell_type": "code",
   "execution_count": 5,
   "metadata": {},
   "outputs": [
    {
     "name": "stdout",
     "output_type": "stream",
     "text": [
      "Number of samples n =  3659\n",
      "Dimension of each sample d =  4\n"
     ]
    }
   ],
   "source": [
    "print('Number of samples n = ', b.shape[0])\n",
    "print('Dimension of each sample d = ', A.shape[1])"
   ]
  },
  {
   "cell_type": "markdown",
   "metadata": {},
   "source": [
    "1. Gradient descendent method functions"
   ]
  },
  {
   "cell_type": "code",
   "execution_count": 6,
   "metadata": {},
   "outputs": [],
   "source": [
    "def calculate_objective(Axmb):\n",
    "    \"\"\"Calculate ||Ax - b||^2 for the vector Axmb = Ax - b\"\"\"\n",
    "    # ***************************************************\n",
    "    # YOUR CODE HERE\n",
    "    obj = (Axmb**2).sum()\n",
    "    # ***************************************************    \n",
    "    return obj\n",
    "\n",
    "def compute_gradient(A, x, b):\n",
    "    \"\"\"Compute the gradient and objective function.\"\"\"\n",
    "    # ***************************************************\n",
    "    # YOUR CODE HERE\n",
    "    Axmb = A.dot(x) - b\n",
    "    grad = 2 * A.T.dot(Axmb)\n",
    "    # ***************************************************\n",
    "    return grad, Axmb\n",
    "\n",
    "def gradient_descent(A, initial_x, b, max_iters, gamma):\n",
    "    \"\"\"Gradient descent algorithm.\"\"\"\n",
    "    # Define parameters to store x and objective func. values\n",
    "    xs = [initial_x]\n",
    "    objectives = []\n",
    "    x = initial_x\n",
    "    for n_iter in range(max_iters):\n",
    "      \n",
    "        # compute objective and gradient\n",
    "        grad, Axmb = compute_gradient(A, x, b)\n",
    "        obj = calculate_objective(Axmb)\n",
    "\n",
    "        # ***************************************************\n",
    "        # YOUR CODE HERE\n",
    "        # update x by a gradient descent step\n",
    "        x = x - gamma * grad\n",
    "        # ***************************************************\n",
    "        \n",
    "        # store x and objective function value\n",
    "        xs.append(x)\n",
    "        objectives.append(obj)\n",
    "        print(\"Gradient Descent({bi}/{ti}): objective={l:.5f}, x=[{w0:.5f},{w1:.5f}]\".format(\n",
    "              bi=n_iter, ti=max_iters - 1, l=obj, w0=x[0], w1=x[1]))\n",
    "\n",
    "    return objectives, xs\n"
   ]
  },
  {
   "cell_type": "markdown",
   "metadata": {},
   "source": [
    "test Classic Gradient descent "
   ]
  },
  {
   "cell_type": "code",
   "execution_count": 18,
   "metadata": {},
   "outputs": [
    {
     "name": "stdout",
     "output_type": "stream",
     "text": [
      "Gradient Descent(0/99): objective=3659.00000, x=[-0.00000,0.00000]\n",
      "Gradient Descent(1/99): objective=3658.99828, x=[0.00000,0.00000]\n",
      "Gradient Descent(2/99): objective=3658.99763, x=[0.00000,0.00000]\n",
      "Gradient Descent(3/99): objective=3658.99713, x=[0.00000,0.00000]\n",
      "Gradient Descent(4/99): objective=3658.99666, x=[0.00000,0.00000]\n",
      "Gradient Descent(5/99): objective=3658.99619, x=[0.00000,0.00000]\n",
      "Gradient Descent(6/99): objective=3658.99572, x=[0.00000,0.00000]\n",
      "Gradient Descent(7/99): objective=3658.99524, x=[0.00000,0.00000]\n",
      "Gradient Descent(8/99): objective=3658.99477, x=[0.00000,0.00000]\n",
      "Gradient Descent(9/99): objective=3658.99430, x=[0.00000,0.00000]\n",
      "Gradient Descent(10/99): objective=3658.99383, x=[0.00000,0.00000]\n",
      "Gradient Descent(11/99): objective=3658.99336, x=[0.00000,0.00000]\n",
      "Gradient Descent(12/99): objective=3658.99289, x=[0.00000,0.00000]\n",
      "Gradient Descent(13/99): objective=3658.99241, x=[0.00000,0.00000]\n",
      "Gradient Descent(14/99): objective=3658.99194, x=[0.00000,0.00000]\n",
      "Gradient Descent(15/99): objective=3658.99147, x=[0.00000,0.00000]\n",
      "Gradient Descent(16/99): objective=3658.99100, x=[0.00000,0.00000]\n",
      "Gradient Descent(17/99): objective=3658.99053, x=[0.00000,0.00000]\n",
      "Gradient Descent(18/99): objective=3658.99006, x=[0.00000,0.00000]\n",
      "Gradient Descent(19/99): objective=3658.98959, x=[0.00000,0.00000]\n",
      "Gradient Descent(20/99): objective=3658.98911, x=[0.00000,0.00000]\n",
      "Gradient Descent(21/99): objective=3658.98864, x=[0.00000,0.00000]\n",
      "Gradient Descent(22/99): objective=3658.98817, x=[0.00000,0.00000]\n",
      "Gradient Descent(23/99): objective=3658.98770, x=[0.00000,0.00000]\n",
      "Gradient Descent(24/99): objective=3658.98723, x=[0.00000,0.00000]\n",
      "Gradient Descent(25/99): objective=3658.98676, x=[0.00000,0.00000]\n",
      "Gradient Descent(26/99): objective=3658.98628, x=[0.00000,0.00000]\n",
      "Gradient Descent(27/99): objective=3658.98581, x=[0.00000,0.00000]\n",
      "Gradient Descent(28/99): objective=3658.98534, x=[0.00000,0.00000]\n",
      "Gradient Descent(29/99): objective=3658.98487, x=[0.00000,0.00000]\n",
      "Gradient Descent(30/99): objective=3658.98440, x=[0.00000,0.00000]\n",
      "Gradient Descent(31/99): objective=3658.98393, x=[0.00000,0.00000]\n",
      "Gradient Descent(32/99): objective=3658.98346, x=[0.00000,0.00000]\n",
      "Gradient Descent(33/99): objective=3658.98298, x=[0.00000,0.00000]\n",
      "Gradient Descent(34/99): objective=3658.98251, x=[0.00000,0.00000]\n",
      "Gradient Descent(35/99): objective=3658.98204, x=[0.00000,0.00000]\n",
      "Gradient Descent(36/99): objective=3658.98157, x=[0.00000,0.00000]\n",
      "Gradient Descent(37/99): objective=3658.98110, x=[0.00000,0.00000]\n",
      "Gradient Descent(38/99): objective=3658.98063, x=[0.00000,0.00000]\n",
      "Gradient Descent(39/99): objective=3658.98016, x=[0.00000,0.00000]\n",
      "Gradient Descent(40/99): objective=3658.97968, x=[0.00000,0.00000]\n",
      "Gradient Descent(41/99): objective=3658.97921, x=[0.00000,0.00000]\n",
      "Gradient Descent(42/99): objective=3658.97874, x=[0.00000,0.00000]\n",
      "Gradient Descent(43/99): objective=3658.97827, x=[0.00000,0.00000]\n",
      "Gradient Descent(44/99): objective=3658.97780, x=[0.00000,0.00000]\n",
      "Gradient Descent(45/99): objective=3658.97733, x=[0.00000,0.00000]\n",
      "Gradient Descent(46/99): objective=3658.97685, x=[0.00000,0.00000]\n",
      "Gradient Descent(47/99): objective=3658.97638, x=[0.00000,0.00000]\n",
      "Gradient Descent(48/99): objective=3658.97591, x=[0.00000,0.00000]\n",
      "Gradient Descent(49/99): objective=3658.97544, x=[0.00000,0.00000]\n",
      "Gradient Descent(50/99): objective=3658.97497, x=[0.00000,0.00000]\n",
      "Gradient Descent(51/99): objective=3658.97450, x=[0.00000,0.00000]\n",
      "Gradient Descent(52/99): objective=3658.97403, x=[0.00000,0.00000]\n",
      "Gradient Descent(53/99): objective=3658.97355, x=[0.00000,0.00000]\n",
      "Gradient Descent(54/99): objective=3658.97308, x=[0.00000,0.00000]\n",
      "Gradient Descent(55/99): objective=3658.97261, x=[0.00000,0.00000]\n",
      "Gradient Descent(56/99): objective=3658.97214, x=[0.00000,0.00000]\n",
      "Gradient Descent(57/99): objective=3658.97167, x=[0.00000,0.00000]\n",
      "Gradient Descent(58/99): objective=3658.97120, x=[0.00000,0.00000]\n",
      "Gradient Descent(59/99): objective=3658.97072, x=[0.00000,0.00000]\n",
      "Gradient Descent(60/99): objective=3658.97025, x=[0.00000,0.00000]\n",
      "Gradient Descent(61/99): objective=3658.96978, x=[0.00000,0.00000]\n",
      "Gradient Descent(62/99): objective=3658.96931, x=[0.00000,0.00000]\n",
      "Gradient Descent(63/99): objective=3658.96884, x=[0.00000,0.00000]\n",
      "Gradient Descent(64/99): objective=3658.96837, x=[0.00000,0.00000]\n",
      "Gradient Descent(65/99): objective=3658.96790, x=[0.00000,0.00000]\n",
      "Gradient Descent(66/99): objective=3658.96742, x=[0.00000,0.00000]\n",
      "Gradient Descent(67/99): objective=3658.96695, x=[0.00000,0.00000]\n",
      "Gradient Descent(68/99): objective=3658.96648, x=[0.00000,0.00000]\n",
      "Gradient Descent(69/99): objective=3658.96601, x=[0.00000,0.00000]\n",
      "Gradient Descent(70/99): objective=3658.96554, x=[0.00000,0.00000]\n",
      "Gradient Descent(71/99): objective=3658.96507, x=[0.00000,0.00000]\n",
      "Gradient Descent(72/99): objective=3658.96460, x=[0.00000,0.00000]\n",
      "Gradient Descent(73/99): objective=3658.96412, x=[0.00000,0.00000]\n",
      "Gradient Descent(74/99): objective=3658.96365, x=[0.00000,0.00000]\n",
      "Gradient Descent(75/99): objective=3658.96318, x=[0.00000,0.00000]\n",
      "Gradient Descent(76/99): objective=3658.96271, x=[0.00000,0.00000]\n",
      "Gradient Descent(77/99): objective=3658.96224, x=[0.00000,0.00000]\n",
      "Gradient Descent(78/99): objective=3658.96177, x=[0.00000,0.00000]\n",
      "Gradient Descent(79/99): objective=3658.96129, x=[0.00000,0.00000]\n",
      "Gradient Descent(80/99): objective=3658.96082, x=[0.00000,0.00000]\n",
      "Gradient Descent(81/99): objective=3658.96035, x=[0.00000,0.00000]\n",
      "Gradient Descent(82/99): objective=3658.95988, x=[0.00000,0.00000]\n",
      "Gradient Descent(83/99): objective=3658.95941, x=[0.00000,0.00000]\n",
      "Gradient Descent(84/99): objective=3658.95894, x=[0.00000,0.00000]\n",
      "Gradient Descent(85/99): objective=3658.95847, x=[0.00000,0.00000]\n",
      "Gradient Descent(86/99): objective=3658.95799, x=[0.00000,0.00000]\n",
      "Gradient Descent(87/99): objective=3658.95752, x=[0.00000,0.00000]\n",
      "Gradient Descent(88/99): objective=3658.95705, x=[0.00000,0.00000]\n",
      "Gradient Descent(89/99): objective=3658.95658, x=[0.00000,0.00000]\n",
      "Gradient Descent(90/99): objective=3658.95611, x=[0.00000,0.00000]\n",
      "Gradient Descent(91/99): objective=3658.95564, x=[0.00000,0.00000]\n",
      "Gradient Descent(92/99): objective=3658.95517, x=[0.00000,0.00000]\n",
      "Gradient Descent(93/99): objective=3658.95469, x=[0.00000,0.00000]\n",
      "Gradient Descent(94/99): objective=3658.95422, x=[0.00000,0.00000]\n",
      "Gradient Descent(95/99): objective=3658.95375, x=[0.00000,0.00000]\n",
      "Gradient Descent(96/99): objective=3658.95328, x=[0.00000,0.00000]\n",
      "Gradient Descent(97/99): objective=3658.95281, x=[0.00000,0.00000]\n",
      "Gradient Descent(98/99): objective=3658.95234, x=[0.00000,0.00000]\n",
      "Gradient Descent(99/99): objective=3658.95187, x=[0.00000,0.00000]\n",
      "########################\n"
     ]
    }
   ],
   "source": [
    "\n",
    "max_iters = 100\n",
    "gamma = 0.0000000001  # Tasso di apprendimento iniziale\n",
    "x_initial = np.zeros(A.shape[1])\n",
    "\n",
    "\n",
    "# Start gradient descent.\n",
    "gradient_objectives_naive, gradient_xs_naive = gradient_descent(A, x_initial, b, max_iters, gamma)\n",
    "print(\"########################\")\n",
    "\n",
    "\n"
   ]
  },
  {
   "cell_type": "markdown",
   "metadata": {},
   "source": [
    "We can try also to use a smoothness gradient descent with L parameter"
   ]
  },
  {
   "cell_type": "code",
   "execution_count": 11,
   "metadata": {},
   "outputs": [],
   "source": [
    "def calculate_L(A, b):\n",
    "    \"\"\"Calculate the smoothness constant for f\"\"\"\n",
    "    # ***************************************************\n",
    "    # YOUR CODE HERE\n",
    "    # compute L = smoothness constant of f\n",
    "    L = 2 * np.linalg.norm(A.T.dot(A), ord=2)\n",
    "    # ***************************************************\n",
    "    return L"
   ]
  },
  {
   "cell_type": "code",
   "execution_count": 25,
   "metadata": {},
   "outputs": [
    {
     "name": "stdout",
     "output_type": "stream",
     "text": [
      "3.189061539660609e-10\n",
      "Gradient Descent(0/99): objective=3659.00000, x=[-0.00000,0.00000]\n",
      "Gradient Descent(1/99): objective=3658.99850, x=[0.00000,0.00000]\n",
      "Gradient Descent(2/99): objective=3658.99699, x=[0.00000,0.00000]\n",
      "Gradient Descent(3/99): objective=3658.99549, x=[0.00000,0.00000]\n",
      "Gradient Descent(4/99): objective=3658.99398, x=[0.00000,0.00000]\n",
      "Gradient Descent(5/99): objective=3658.99248, x=[0.00000,0.00000]\n",
      "Gradient Descent(6/99): objective=3658.99098, x=[0.00000,0.00000]\n",
      "Gradient Descent(7/99): objective=3658.98947, x=[0.00000,0.00000]\n",
      "Gradient Descent(8/99): objective=3658.98797, x=[0.00000,0.00000]\n",
      "Gradient Descent(9/99): objective=3658.98647, x=[0.00000,0.00000]\n",
      "Gradient Descent(10/99): objective=3658.98496, x=[0.00000,0.00000]\n",
      "Gradient Descent(11/99): objective=3658.98346, x=[0.00000,0.00000]\n",
      "Gradient Descent(12/99): objective=3658.98196, x=[0.00000,0.00000]\n",
      "Gradient Descent(13/99): objective=3658.98045, x=[0.00000,0.00000]\n",
      "Gradient Descent(14/99): objective=3658.97895, x=[0.00000,0.00000]\n",
      "Gradient Descent(15/99): objective=3658.97744, x=[0.00000,0.00000]\n",
      "Gradient Descent(16/99): objective=3658.97594, x=[0.00000,0.00000]\n",
      "Gradient Descent(17/99): objective=3658.97444, x=[0.00000,0.00000]\n",
      "Gradient Descent(18/99): objective=3658.97293, x=[0.00000,0.00000]\n",
      "Gradient Descent(19/99): objective=3658.97143, x=[0.00000,0.00000]\n",
      "Gradient Descent(20/99): objective=3658.96993, x=[0.00000,0.00000]\n",
      "Gradient Descent(21/99): objective=3658.96842, x=[0.00000,0.00000]\n",
      "Gradient Descent(22/99): objective=3658.96692, x=[0.00000,0.00000]\n",
      "Gradient Descent(23/99): objective=3658.96541, x=[0.00000,0.00000]\n",
      "Gradient Descent(24/99): objective=3658.96391, x=[0.00000,0.00000]\n",
      "Gradient Descent(25/99): objective=3658.96241, x=[0.00000,0.00000]\n",
      "Gradient Descent(26/99): objective=3658.96090, x=[0.00000,0.00000]\n",
      "Gradient Descent(27/99): objective=3658.95940, x=[0.00000,0.00000]\n",
      "Gradient Descent(28/99): objective=3658.95790, x=[0.00000,0.00000]\n",
      "Gradient Descent(29/99): objective=3658.95639, x=[0.00000,0.00000]\n",
      "Gradient Descent(30/99): objective=3658.95489, x=[0.00000,0.00000]\n",
      "Gradient Descent(31/99): objective=3658.95339, x=[0.00000,0.00000]\n",
      "Gradient Descent(32/99): objective=3658.95188, x=[0.00000,0.00000]\n",
      "Gradient Descent(33/99): objective=3658.95038, x=[0.00000,0.00000]\n",
      "Gradient Descent(34/99): objective=3658.94888, x=[0.00000,0.00000]\n",
      "Gradient Descent(35/99): objective=3658.94737, x=[0.00000,0.00000]\n",
      "Gradient Descent(36/99): objective=3658.94587, x=[0.00000,0.00000]\n",
      "Gradient Descent(37/99): objective=3658.94436, x=[0.00000,0.00000]\n",
      "Gradient Descent(38/99): objective=3658.94286, x=[0.00000,0.00000]\n",
      "Gradient Descent(39/99): objective=3658.94136, x=[0.00000,0.00000]\n",
      "Gradient Descent(40/99): objective=3658.93985, x=[0.00000,0.00000]\n",
      "Gradient Descent(41/99): objective=3658.93835, x=[0.00000,0.00000]\n",
      "Gradient Descent(42/99): objective=3658.93685, x=[0.00000,0.00001]\n",
      "Gradient Descent(43/99): objective=3658.93534, x=[0.00000,0.00000]\n",
      "Gradient Descent(44/99): objective=3658.93384, x=[0.00000,0.00001]\n",
      "Gradient Descent(45/99): objective=3658.93234, x=[0.00000,0.00000]\n",
      "Gradient Descent(46/99): objective=3658.93083, x=[0.00000,0.00001]\n",
      "Gradient Descent(47/99): objective=3658.92933, x=[0.00000,0.00001]\n",
      "Gradient Descent(48/99): objective=3658.92783, x=[0.00000,0.00001]\n",
      "Gradient Descent(49/99): objective=3658.92632, x=[0.00000,0.00001]\n",
      "Gradient Descent(50/99): objective=3658.92482, x=[0.00000,0.00001]\n",
      "Gradient Descent(51/99): objective=3658.92332, x=[0.00000,0.00001]\n",
      "Gradient Descent(52/99): objective=3658.92181, x=[0.00000,0.00001]\n",
      "Gradient Descent(53/99): objective=3658.92031, x=[0.00000,0.00001]\n",
      "Gradient Descent(54/99): objective=3658.91881, x=[0.00000,0.00001]\n",
      "Gradient Descent(55/99): objective=3658.91730, x=[0.00000,0.00001]\n",
      "Gradient Descent(56/99): objective=3658.91580, x=[0.00000,0.00001]\n",
      "Gradient Descent(57/99): objective=3658.91430, x=[0.00000,0.00001]\n",
      "Gradient Descent(58/99): objective=3658.91279, x=[0.00000,0.00001]\n",
      "Gradient Descent(59/99): objective=3658.91129, x=[0.00000,0.00001]\n",
      "Gradient Descent(60/99): objective=3658.90979, x=[0.00000,0.00001]\n",
      "Gradient Descent(61/99): objective=3658.90828, x=[0.00000,0.00001]\n",
      "Gradient Descent(62/99): objective=3658.90678, x=[0.00000,0.00001]\n",
      "Gradient Descent(63/99): objective=3658.90528, x=[0.00000,0.00001]\n",
      "Gradient Descent(64/99): objective=3658.90377, x=[0.00000,0.00001]\n",
      "Gradient Descent(65/99): objective=3658.90227, x=[0.00000,0.00001]\n",
      "Gradient Descent(66/99): objective=3658.90077, x=[0.00000,0.00001]\n",
      "Gradient Descent(67/99): objective=3658.89926, x=[0.00000,0.00001]\n",
      "Gradient Descent(68/99): objective=3658.89776, x=[0.00000,0.00001]\n",
      "Gradient Descent(69/99): objective=3658.89626, x=[0.00000,0.00001]\n",
      "Gradient Descent(70/99): objective=3658.89475, x=[0.00000,0.00001]\n",
      "Gradient Descent(71/99): objective=3658.89325, x=[0.00000,0.00001]\n",
      "Gradient Descent(72/99): objective=3658.89175, x=[0.00000,0.00001]\n",
      "Gradient Descent(73/99): objective=3658.89024, x=[0.00000,0.00001]\n",
      "Gradient Descent(74/99): objective=3658.88874, x=[0.00000,0.00001]\n",
      "Gradient Descent(75/99): objective=3658.88724, x=[0.00000,0.00001]\n",
      "Gradient Descent(76/99): objective=3658.88573, x=[0.00000,0.00001]\n",
      "Gradient Descent(77/99): objective=3658.88423, x=[0.00000,0.00001]\n",
      "Gradient Descent(78/99): objective=3658.88273, x=[0.00000,0.00001]\n",
      "Gradient Descent(79/99): objective=3658.88122, x=[0.00000,0.00001]\n",
      "Gradient Descent(80/99): objective=3658.87972, x=[0.00000,0.00001]\n",
      "Gradient Descent(81/99): objective=3658.87822, x=[0.00000,0.00001]\n",
      "Gradient Descent(82/99): objective=3658.87671, x=[0.00000,0.00001]\n",
      "Gradient Descent(83/99): objective=3658.87521, x=[0.00000,0.00001]\n",
      "Gradient Descent(84/99): objective=3658.87371, x=[0.00000,0.00001]\n",
      "Gradient Descent(85/99): objective=3658.87220, x=[0.00000,0.00001]\n",
      "Gradient Descent(86/99): objective=3658.87070, x=[0.00000,0.00001]\n",
      "Gradient Descent(87/99): objective=3658.86920, x=[0.00000,0.00001]\n",
      "Gradient Descent(88/99): objective=3658.86770, x=[0.00000,0.00001]\n",
      "Gradient Descent(89/99): objective=3658.86619, x=[0.00000,0.00001]\n",
      "Gradient Descent(90/99): objective=3658.86469, x=[0.00000,0.00001]\n",
      "Gradient Descent(91/99): objective=3658.86319, x=[0.00000,0.00001]\n",
      "Gradient Descent(92/99): objective=3658.86168, x=[0.00000,0.00001]\n",
      "Gradient Descent(93/99): objective=3658.86018, x=[0.00000,0.00001]\n",
      "Gradient Descent(94/99): objective=3658.85868, x=[0.00000,0.00001]\n",
      "Gradient Descent(95/99): objective=3658.85717, x=[0.00000,0.00001]\n",
      "Gradient Descent(96/99): objective=3658.85567, x=[0.00000,0.00001]\n",
      "Gradient Descent(97/99): objective=3658.85417, x=[0.00000,0.00001]\n",
      "Gradient Descent(98/99): objective=3658.85266, x=[0.00000,0.00001]\n",
      "Gradient Descent(99/99): objective=3658.85116, x=[0.00000,0.00001]\n"
     ]
    }
   ],
   "source": [
    "\n",
    "max_iters = 100\n",
    "gamma_smooth = (1/calculate_L(A,b))*2\n",
    "print(gamma_smooth)\n",
    "x_initial = np.zeros(A.shape[1])\n",
    "\n",
    "# Start gradient descent.\n",
    "gradient_objectives_smooth, gradient_xs_smooth = gradient_descent(A, x_initial, b, max_iters, gamma_smooth)\n"
   ]
  },
  {
   "cell_type": "markdown",
   "metadata": {},
   "source": [
    "LIPSCHITZ"
   ]
  },
  {
   "cell_type": "code",
   "execution_count": 29,
   "metadata": {},
   "outputs": [
    {
     "name": "stdout",
     "output_type": "stream",
     "text": [
      "Gradient Descent(0/99): objective=3659.00000, x=[-0.00000,0.00000]\n",
      "Gradient Descent(1/99): objective=3658.99965, x=[0.00000,0.00000]\n",
      "Gradient Descent(2/99): objective=3658.99935, x=[0.00000,0.00000]\n",
      "Gradient Descent(3/99): objective=3658.99909, x=[0.00000,0.00000]\n",
      "Gradient Descent(4/99): objective=3658.99887, x=[0.00000,0.00000]\n",
      "Gradient Descent(5/99): objective=3658.99868, x=[0.00000,0.00000]\n",
      "Gradient Descent(6/99): objective=3658.99850, x=[0.00000,0.00000]\n",
      "Gradient Descent(7/99): objective=3658.99835, x=[0.00000,0.00000]\n",
      "Gradient Descent(8/99): objective=3658.99821, x=[0.00000,0.00000]\n",
      "Gradient Descent(9/99): objective=3658.99809, x=[0.00000,0.00000]\n",
      "Gradient Descent(10/99): objective=3658.99797, x=[0.00000,0.00000]\n",
      "Gradient Descent(11/99): objective=3658.99786, x=[0.00000,0.00000]\n",
      "Gradient Descent(12/99): objective=3658.99776, x=[0.00000,0.00000]\n",
      "Gradient Descent(13/99): objective=3658.99766, x=[0.00000,0.00000]\n",
      "Gradient Descent(14/99): objective=3658.99757, x=[0.00000,0.00000]\n",
      "Gradient Descent(15/99): objective=3658.99748, x=[0.00000,0.00000]\n",
      "Gradient Descent(16/99): objective=3658.99739, x=[0.00000,0.00000]\n",
      "Gradient Descent(17/99): objective=3658.99731, x=[0.00000,0.00000]\n",
      "Gradient Descent(18/99): objective=3658.99722, x=[0.00000,0.00000]\n",
      "Gradient Descent(19/99): objective=3658.99714, x=[0.00000,0.00000]\n",
      "Gradient Descent(20/99): objective=3658.99706, x=[0.00000,0.00000]\n",
      "Gradient Descent(21/99): objective=3658.99698, x=[0.00000,0.00000]\n",
      "Gradient Descent(22/99): objective=3658.99690, x=[0.00000,0.00000]\n",
      "Gradient Descent(23/99): objective=3658.99683, x=[0.00000,0.00000]\n",
      "Gradient Descent(24/99): objective=3658.99675, x=[0.00000,0.00000]\n",
      "Gradient Descent(25/99): objective=3658.99667, x=[0.00000,0.00000]\n",
      "Gradient Descent(26/99): objective=3658.99660, x=[0.00000,0.00000]\n",
      "Gradient Descent(27/99): objective=3658.99652, x=[0.00000,0.00000]\n",
      "Gradient Descent(28/99): objective=3658.99644, x=[0.00000,0.00000]\n",
      "Gradient Descent(29/99): objective=3658.99637, x=[0.00000,0.00000]\n",
      "Gradient Descent(30/99): objective=3658.99629, x=[0.00000,0.00000]\n",
      "Gradient Descent(31/99): objective=3658.99622, x=[0.00000,0.00000]\n",
      "Gradient Descent(32/99): objective=3658.99614, x=[0.00000,0.00000]\n",
      "Gradient Descent(33/99): objective=3658.99606, x=[0.00000,0.00000]\n",
      "Gradient Descent(34/99): objective=3658.99599, x=[0.00000,0.00000]\n",
      "Gradient Descent(35/99): objective=3658.99591, x=[0.00000,0.00000]\n",
      "Gradient Descent(36/99): objective=3658.99584, x=[0.00000,0.00000]\n",
      "Gradient Descent(37/99): objective=3658.99576, x=[0.00000,0.00000]\n",
      "Gradient Descent(38/99): objective=3658.99569, x=[0.00000,0.00000]\n",
      "Gradient Descent(39/99): objective=3658.99561, x=[0.00000,0.00000]\n",
      "Gradient Descent(40/99): objective=3658.99554, x=[0.00000,0.00000]\n",
      "Gradient Descent(41/99): objective=3658.99546, x=[0.00000,0.00000]\n",
      "Gradient Descent(42/99): objective=3658.99539, x=[0.00000,0.00000]\n",
      "Gradient Descent(43/99): objective=3658.99531, x=[0.00000,0.00000]\n",
      "Gradient Descent(44/99): objective=3658.99524, x=[0.00000,0.00000]\n",
      "Gradient Descent(45/99): objective=3658.99516, x=[0.00000,0.00000]\n",
      "Gradient Descent(46/99): objective=3658.99509, x=[0.00000,0.00000]\n",
      "Gradient Descent(47/99): objective=3658.99501, x=[0.00000,0.00000]\n",
      "Gradient Descent(48/99): objective=3658.99494, x=[0.00000,0.00000]\n",
      "Gradient Descent(49/99): objective=3658.99486, x=[0.00000,0.00000]\n",
      "Gradient Descent(50/99): objective=3658.99479, x=[0.00000,0.00000]\n",
      "Gradient Descent(51/99): objective=3658.99471, x=[0.00000,0.00000]\n",
      "Gradient Descent(52/99): objective=3658.99463, x=[0.00000,0.00000]\n",
      "Gradient Descent(53/99): objective=3658.99456, x=[0.00000,0.00000]\n",
      "Gradient Descent(54/99): objective=3658.99448, x=[0.00000,0.00000]\n",
      "Gradient Descent(55/99): objective=3658.99441, x=[0.00000,0.00000]\n",
      "Gradient Descent(56/99): objective=3658.99433, x=[0.00000,0.00000]\n",
      "Gradient Descent(57/99): objective=3658.99426, x=[0.00000,0.00000]\n",
      "Gradient Descent(58/99): objective=3658.99418, x=[0.00000,0.00000]\n",
      "Gradient Descent(59/99): objective=3658.99411, x=[0.00000,0.00000]\n",
      "Gradient Descent(60/99): objective=3658.99403, x=[0.00000,0.00000]\n",
      "Gradient Descent(61/99): objective=3658.99396, x=[0.00000,0.00000]\n",
      "Gradient Descent(62/99): objective=3658.99388, x=[0.00000,0.00000]\n",
      "Gradient Descent(63/99): objective=3658.99381, x=[0.00000,0.00000]\n",
      "Gradient Descent(64/99): objective=3658.99373, x=[0.00000,0.00000]\n",
      "Gradient Descent(65/99): objective=3658.99366, x=[0.00000,0.00000]\n",
      "Gradient Descent(66/99): objective=3658.99358, x=[0.00000,0.00000]\n",
      "Gradient Descent(67/99): objective=3658.99351, x=[0.00000,0.00000]\n",
      "Gradient Descent(68/99): objective=3658.99343, x=[0.00000,0.00000]\n",
      "Gradient Descent(69/99): objective=3658.99336, x=[0.00000,0.00000]\n",
      "Gradient Descent(70/99): objective=3658.99328, x=[0.00000,0.00000]\n",
      "Gradient Descent(71/99): objective=3658.99321, x=[0.00000,0.00000]\n",
      "Gradient Descent(72/99): objective=3658.99313, x=[0.00000,0.00000]\n",
      "Gradient Descent(73/99): objective=3658.99306, x=[0.00000,0.00000]\n",
      "Gradient Descent(74/99): objective=3658.99298, x=[0.00000,0.00000]\n",
      "Gradient Descent(75/99): objective=3658.99291, x=[0.00000,0.00000]\n",
      "Gradient Descent(76/99): objective=3658.99283, x=[0.00000,0.00000]\n",
      "Gradient Descent(77/99): objective=3658.99276, x=[0.00000,0.00000]\n",
      "Gradient Descent(78/99): objective=3658.99268, x=[0.00000,0.00000]\n",
      "Gradient Descent(79/99): objective=3658.99260, x=[0.00000,0.00000]\n",
      "Gradient Descent(80/99): objective=3658.99253, x=[0.00000,0.00000]\n",
      "Gradient Descent(81/99): objective=3658.99245, x=[0.00000,0.00000]\n",
      "Gradient Descent(82/99): objective=3658.99238, x=[0.00000,0.00000]\n",
      "Gradient Descent(83/99): objective=3658.99230, x=[0.00000,0.00000]\n",
      "Gradient Descent(84/99): objective=3658.99223, x=[0.00000,0.00000]\n",
      "Gradient Descent(85/99): objective=3658.99215, x=[0.00000,0.00000]\n",
      "Gradient Descent(86/99): objective=3658.99208, x=[0.00000,0.00000]\n",
      "Gradient Descent(87/99): objective=3658.99200, x=[0.00000,0.00000]\n",
      "Gradient Descent(88/99): objective=3658.99193, x=[0.00000,0.00000]\n",
      "Gradient Descent(89/99): objective=3658.99185, x=[0.00000,0.00000]\n",
      "Gradient Descent(90/99): objective=3658.99178, x=[0.00000,0.00000]\n",
      "Gradient Descent(91/99): objective=3658.99170, x=[0.00000,0.00000]\n",
      "Gradient Descent(92/99): objective=3658.99163, x=[0.00000,0.00000]\n",
      "Gradient Descent(93/99): objective=3658.99155, x=[0.00000,0.00000]\n",
      "Gradient Descent(94/99): objective=3658.99148, x=[0.00000,0.00000]\n",
      "Gradient Descent(95/99): objective=3658.99140, x=[0.00000,0.00000]\n",
      "Gradient Descent(96/99): objective=3658.99133, x=[0.00000,0.00000]\n",
      "Gradient Descent(97/99): objective=3658.99125, x=[0.00000,0.00000]\n",
      "Gradient Descent(98/99): objective=3658.99118, x=[0.00000,0.00000]\n",
      "Gradient Descent(99/99): objective=3658.99110, x=[0.00000,0.00000]\n"
     ]
    }
   ],
   "source": [
    "max_iters = 100\n",
    "R = 25\n",
    "\n",
    "# ***************************************************\n",
    "# YOUR CODE HERE\n",
    "# Compute the bound B on the gradient norm\n",
    "B = 2 * (R*np.linalg.norm(np.dot(A.T,A)) + np.linalg.norm(np.dot(A.T,b)))\n",
    "# ***************************************************\n",
    "\n",
    "# ***************************************************\n",
    "# YOUR CODE HERE\n",
    "#  Compute learning rate based on bounded gradient\n",
    "gamma_bounded = R/(B*np.sqrt(max_iters))\n",
    "# ***************************************************\n",
    "\n",
    "# Start gradient descent.\n",
    "gradient_objectives_bounded, gradient_xs_bounded = gradient_descent(A, x_initial, b, max_iters, gamma_bounded)"
   ]
  },
  {
   "cell_type": "code",
   "execution_count": 30,
   "metadata": {},
   "outputs": [
    {
     "data": {
      "text/plain": [
       "[<matplotlib.lines.Line2D at 0x1e95a4a2610>]"
      ]
     },
     "execution_count": 30,
     "metadata": {},
     "output_type": "execute_result"
    },
    {
     "data": {
      "image/png": "[encoded data removed]",
      "text/plain": [
       "<Figure size 800x800 with 1 Axes>"
      ]
     },
     "metadata": {},
     "output_type": "display_data"
    }
   ],
   "source": [
    "plt.figure(figsize=(8, 8))\n",
    "plt.xlabel('Number of steps')\n",
    "plt.ylabel('Objective Function')\n",
    "plt.plot(range(len(gradient_objectives_smooth)), gradient_objectives_smooth,'green', label='gradient descent assuming smoothness')\n",
    "plt.plot(range(len(gradient_objectives_naive)), gradient_objectives_naive,'red', label='naive gradient descent')\n",
    "plt.plot(range(len(gradient_objectives_bounded)), gradient_objectives_bounded,'blue', label='gradient descent assuming bounded gradients')"
   ]
  },
  {
   "cell_type": "markdown",
   "metadata": {},
   "source": [
    "STOCHASTIC GRADIENT\n"
   ]
  },
  {
   "cell_type": "code",
   "execution_count": 31,
   "metadata": {},
   "outputs": [
    {
     "name": "stdout",
     "output_type": "stream",
     "text": [
      "f(x*) =  0.7336531329126006\n"
     ]
    }
   ],
   "source": [
    "def full_objective(A, x, b):\n",
    "    \"\"\"Compute the least squares objective over the whole dataset\"\"\"\n",
    "    return np.mean((A.dot(x) - b)**2)\n",
    "\n",
    "x_star = np.linalg.solve(A.T.dot(A), A.T.dot(b)) #solve Ax = b\n",
    "best_objective = full_objective(A, x_star, b)\n",
    "print(\"f(x*) = \", best_objective)"
   ]
  },
  {
   "cell_type": "code",
   "execution_count": 32,
   "metadata": {},
   "outputs": [],
   "source": [
    "def minibatch_gradient(A, x, b):\n",
    "    \"\"\"\n",
    "    Compute a mini-batch stochastic gradient from a subset of `num_examples` from the dataset.\n",
    "    \n",
    "    :param b: a numpy array of shape (num_examples)\n",
    "    :param A: a numpy array of shape (num_examples, num_features)\n",
    "    :param x: compute the mini-batch gradient at these parameters, numpy array of shape (num_features)\n",
    "    \n",
    "    :return: gradient: numpy array of shape (num_features)\n",
    "    \"\"\"\n",
    "    # ***************************************************\n",
    "    # YOUR CODE HERE\n",
    "    # TODO: implement gradient computation.\n",
    "    # ***************************************************\n",
    "    batch_size = len(b)\n",
    "    Axmb = A.dot(x) - b\n",
    "    gradient = A.T.dot(Axmb) / batch_size\n",
    "    return gradient"
   ]
  },
  {
   "cell_type": "code",
   "execution_count": 33,
   "metadata": {},
   "outputs": [
    {
     "name": "stdout",
     "output_type": "stream",
     "text": [
      "Tests passed\n"
     ]
    }
   ],
   "source": [
    "num_trials = 10\n",
    "for i in range(num_trials):\n",
    "    # Try different parameter vectors $x$\n",
    "    x = np.random.rand(A.shape[1])\n",
    "\n",
    "    stochastic_gradients = []\n",
    "    # *********************************************************\n",
    "    # YOUR CODE HERE\n",
    "    # TODO: Compute all stochastic gradients, mini-batch size 1\n",
    "    # *********************************************************\n",
    "    for i in range(len(b)):\n",
    "        stochastic_gradients.append(minibatch_gradient(A[i:i+1, :], x, b[i:i+1]))\n",
    "\n",
    "    # axis = 0 is the mean along the column\n",
    "    mean_stochastic_gradients = np.mean(stochastic_gradients, axis = 0)\n",
    "\n",
    "    # *********************************************************\n",
    "    # YOUR CODE HERE\n",
    "    # *********************************************************\n",
    "    full_gradient = minibatch_gradient(A, x, b)\n",
    "\n",
    "    # Those should be the same on average\n",
    "    assert np.allclose(mean_stochastic_gradients, full_gradient)\n",
    "    \n",
    "print('Tests passed')"
   ]
  },
  {
   "cell_type": "code",
   "execution_count": 34,
   "metadata": {},
   "outputs": [],
   "source": [
    "def stochastic_gradient(A, x, b, batch_size=1):\n",
    "    \"\"\"Compute a stochastic gradient\"\"\"\n",
    "    dataset_size = len(b)\n",
    "    indices = np.random.choice(dataset_size, batch_size, replace=False)\n",
    "    return minibatch_gradient(A[indices, :], x, b[indices])\n",
    "\n",
    "def stochastic_gradient_descent(\n",
    "        data_A, \n",
    "        initial_x, \n",
    "        targets_b, \n",
    "        batch_size, \n",
    "        max_iters, \n",
    "        learning_rate):\n",
    "    \"\"\"\n",
    "    Mini-batch Stochastic Gradient Descent for Linear Least Squares problems.\n",
    "    \n",
    "    :param data_A: numpy array of size (num_examples, num_features)\n",
    "    :param initial_x: starting parameters, a numpy array of size (num_features)\n",
    "    :param targets_b: numpy array of size (num_examples)\n",
    "    :param batch_size: size of the mini-batches\n",
    "    :param max_iters: integer, number of updates to do\n",
    "    :param learning_rate: float\n",
    "    :param decreasing_learning_rate: if true, the learning rate should decay as 1 / t \n",
    "    \n",
    "    :return:\n",
    "    - objectives, a list of loss values on the whole dataset, collected at the end of each pass over the dataset (epoch)\n",
    "    - xs, a list of parameter vectors, collected at the end of each pass over the dataset\n",
    "    \"\"\"\n",
    "    xs = [initial_x]  # parameters after each update \n",
    "    objectives = []  # loss values after each update\n",
    "    x = initial_x\n",
    "    \n",
    "    # ***************************************************\n",
    "    # YOUR CODE HERE\n",
    "    # TODO: implement stochastic gradient descent.\n",
    "    # ***************************************************\n",
    "    for iteration in range(max_iters):\n",
    "        grad = stochastic_gradient(data_A, x, targets_b, batch_size=batch_size)\n",
    "\n",
    "        # update x through the stochastic gradient update\n",
    "        x = x - learning_rate * grad\n",
    "\n",
    "        # store x and objective\n",
    "        xs.append(x.copy())\n",
    "        objective = full_objective(data_A, x, targets_b)\n",
    "        objectives.append(objective)\n",
    "        \n",
    "        if iteration % 1000 == 0:\n",
    "            print(\"SGD({bi:04d}/{ti:04d}): objective = {l:10.2f}\".format(\n",
    "                  bi=iteration, ti=max_iters - 1, l=objective))\n",
    "\n",
    "    return objectives, xs"
   ]
  },
  {
   "cell_type": "code",
   "execution_count": 67,
   "metadata": {},
   "outputs": [
    {
     "name": "stdout",
     "output_type": "stream",
     "text": [
      "SGD(0000/3999): objective =       1.00\n",
      "SGD(1000/3999): objective =       1.00\n",
      "SGD(2000/3999): objective =       1.00\n",
      "SGD(3000/3999): objective =       1.00\n",
      "SGD: execution time=1.256 seconds\n"
     ]
    },
    {
     "data": {
      "text/plain": [
       "[<matplotlib.lines.Line2D at 0x1e95e4c97d0>]"
      ]
     },
     "execution_count": 67,
     "metadata": {},
     "output_type": "execute_result"
    },
    {
     "data": {
      "image/png": "[encoded data removed]",
      "text/plain": [
       "<Figure size 640x480 with 1 Axes>"
      ]
     },
     "metadata": {},
     "output_type": "display_data"
    }
   ],
   "source": [
    "import datetime\n",
    "\n",
    "# Define the parameters of the algorithm.\n",
    "max_iters = int(4000)\n",
    "gamma = 0.00000000001   # this is totally arbitrary\n",
    "batch_size = 1\n",
    "\n",
    "# Initialization\n",
    "x_initial = np.zeros(A.shape[1])\n",
    "\n",
    "# Start SGD.\n",
    "start_time = datetime.datetime.now()\n",
    "sgd_objectives, sgd_xs = stochastic_gradient_descent(A, x_initial, b, batch_size, max_iters, gamma)\n",
    "end_time = datetime.datetime.now()\n",
    "\n",
    "# Print result\n",
    "exection_time = (end_time - start_time).total_seconds()\n",
    "print(\"SGD: execution time={t:.3f} seconds\".format(t=exection_time))\n",
    "plt.plot(range(len(sgd_objectives)), sgd_objectives,'purple', label='gradient descent assuming smoothness')"
   ]
  },
  {
   "cell_type": "code",
   "execution_count": 68,
   "metadata": {},
   "outputs": [
    {
     "data": {
      "image/png": "[encoded data removed]",
      "text/plain": [
       "<Figure size 640x480 with 1 Axes>"
      ]
     },
     "metadata": {},
     "output_type": "display_data"
    }
   ],
   "source": [
    "plt.title('Convergence rates', fontsize = 20)\n",
    "plt.loglog(sgd_objectives - best_objective, label = r'$\\gamma = 0.2$')\n",
    "plt.xlabel('iteration t'  , fontsize = 20)\n",
    "plt.ylabel(r'$f(x_t) - f(x^*)$', fontsize = 20)\n",
    "plt.legend(fontsize = 20)\n",
    "plt.show()"
   ]
  }
 ],
 "metadata": {
  "kernelspec": {
   "display_name": "base",
   "language": "python",
   "name": "python3"
  },
  "language_info": {
   "codemirror_mode": {
    "name": "ipython",
    "version": 3
   },
   "file_extension": ".py",
   "mimetype": "text/x-python",
   "name": "python",
   "nbconvert_exporter": "python",
   "pygments_lexer": "ipython3",
   "version": "3.11.4"
  }
 },
 "nbformat": 4,
 "nbformat_minor": 2
}
