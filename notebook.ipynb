{
 "cells": [
  {
   "cell_type": "markdown",
   "metadata": {},
   "source": [
    "# My project for Optimization Course"
   ]
  },
  {
   "cell_type": "markdown",
   "metadata": {},
   "source": [
    "Multivariate linear regression implemented through solving an optimization problem using the gradient descent method and some of its variants.\n",
    "\n",
    "The dataset used was taken from Kaggle.com and concerns house prices in the New York area. The idea is to perform a linear regression using the price as the dependent variable and the number of bedrooms, number of bathrooms, and the size of the house as independent variables."
   ]
  },
  {
   "cell_type": "code",
   "execution_count": null,
   "metadata": {},
   "outputs": [],
   "source": [
    "\n",
    "%matplotlib inline\n",
    "import pandas as pd\n",
    "import numpy as np\n",
    "import matplotlib.pyplot as plt\n",
    "\n",
    "df = pd.read_csv(\"dataset/NY-House-Dataset.csv\")\n",
    "print(df.head())\n",
    "\n"
   ]
  },
  {
   "cell_type": "markdown",
   "metadata": {},
   "source": [
    "1) Data Cleaning\n"
   ]
  },
  {
   "cell_type": "code",
   "execution_count": null,
   "metadata": {},
   "outputs": [],
   "source": [
    "#ELIMINO LE COLONNE NON DESIDERATE\n",
    "\n",
    "columns_to_drop = [\"ADDRESS\", \"STATE\", \"MAIN_ADDRESS\", \"ADMINISTRATIVE_AREA_LEVEL_2\", \n",
    "                   \"LOCALITY\", \"STREET_NAME\", \"LONG_NAME\", \"FORMATTED_ADDRESS\", \n",
    "                   \"LATITUDE\", \"LONGITUDE\",\"TYPE\",\"SUBLOCALITY\",\"BROKERTITLE\"]\n",
    "df_filtered = df.drop(columns=columns_to_drop)\n",
    "\n",
    "\n",
    "#FILTRO GLI OUTLIER\n",
    "\n",
    "vars = [\"PRICE\", \"BEDS\", \"BATH\", \"PROPERTYSQFT\"]\n",
    "#df_filtered = df.copy()\n",
    "\n",
    "# Filtra i valori anomali utilizzando il concetto di IQR\n",
    "for var in vars:\n",
    "    Q1 = df_filtered[var].quantile(0.25)\n",
    "    Q3 = df_filtered[var].quantile(0.75)\n",
    "    \n",
    "    IQR = Q3 - Q1\n",
    "    lower_limit = Q1 - 1.5 * IQR\n",
    "    upper_limit = Q3 + 1.5 * IQR\n",
    "    \n",
    "    df_filtered = df_filtered[(df_filtered[var] >= lower_limit) & (df_filtered[var] <= upper_limit)]\n",
    "    \n",
    "print(df_filtered.head)\n",
    "    \n"
   ]
  },
  {
   "cell_type": "markdown",
   "metadata": {},
   "source": [
    "Regression Model:\n",
    "\n",
    "$y = w_0 + w_1 x1 + w_2 x2 + w_3 x3$\n",
    "\n",
    "In this case:\n",
    "\n",
    "$PRICE = w_0 + w_1 BEDS + w_2 BATH + w_3 PROPERTYSQFT$\n",
    "\n"
   ]
  },
  {
   "cell_type": "code",
   "execution_count": null,
   "metadata": {},
   "outputs": [],
   "source": [
    "def standardize(x):\n",
    "    \"\"\"Standardize the original data points (mean 0 and std dev 1).\"\"\"\n",
    "    x = x - np.mean(x)\n",
    "    x = x / np.std(x)\n",
    "    return x\n",
    "\n",
    "def build_model_data(x, y):\n",
    "    \"\"\"Get regression data in matrix form.\"\"\"\n",
    "    b = y\n",
    "    num_samples = len(b)\n",
    "    A = np.c_[np.ones(num_samples), x]\n",
    "    return A, b\n"
   ]
  },
  {
   "cell_type": "code",
   "execution_count": null,
   "metadata": {},
   "outputs": [],
   "source": [
    "\n",
    "features = df_filtered[['BEDS', 'BATH', 'PROPERTYSQFT']]\n",
    "prices = df_filtered['PRICE']\n",
    "print(features)\n",
    "print(prices)\n",
    "\n",
    "A, b = build_model_data(standardize(features), standardize(prices))\n",
    "\n",
    "\n"
   ]
  },
  {
   "cell_type": "code",
   "execution_count": null,
   "metadata": {},
   "outputs": [],
   "source": [
    "print('Number of samples n = ', b.shape[0])\n",
    "print('Dimension of each sample d = ', A.shape[1])"
   ]
  },
  {
   "cell_type": "markdown",
   "metadata": {},
   "source": [
    "1. Gradient descendent method functions"
   ]
  },
  {
   "cell_type": "code",
   "execution_count": null,
   "metadata": {},
   "outputs": [],
   "source": [
    "def calculate_objective(Axmb):\n",
    "    obj = (Axmb**2).sum()\n",
    "    return obj\n",
    "\n",
    "def compute_gradient(A, x, b):\n",
    "    Axmb = A.dot(x) - b\n",
    "    grad = 2 * A.T.dot(Axmb)\n",
    "    return grad, Axmb\n",
    "\n",
    "def gradient_descent(A, initial_x, b, max_iters,gamma):\n",
    "    \"\"\"Gradient descent algorithm.\"\"\"\n",
    "    # Define parameters to store x and objective func. values\n",
    "    xs = [initial_x]\n",
    "    objectives = []\n",
    "    x = initial_x\n",
    "    for n_iter in range(max_iters):\n",
    "      \n",
    "        # compute objective and gradient\n",
    "        grad, Axmb = compute_gradient(A, x, b)\n",
    "        obj = calculate_objective(Axmb)\n",
    "\n",
    "        # ***************************************************\n",
    "        # YOUR CODE HERE\n",
    "        # update x by a gradient descent step\n",
    "        x = x - gamma * grad\n",
    "        # ***************************************************\n",
    "        \n",
    "        # store x and objective function value\n",
    "        xs.append(x)\n",
    "        objectives.append(obj)\n",
    "        print(\"Gradient Descent({bi}/{ti}): objective={l:.5f}, x=[{w0:.5f},{w1:.5f},{w2:.5f},{w3:.5f}]\".format(\n",
    "              bi=n_iter, ti=max_iters - 1, l=obj, w0=x[0], w1=x[1], w2=x[2], w3=x[3]))\n",
    "\n",
    "    return objectives, xs\n"
   ]
  },
  {
   "cell_type": "markdown",
   "metadata": {},
   "source": [
    "test Classic Gradient descent "
   ]
  },
  {
   "cell_type": "code",
   "execution_count": null,
   "metadata": {},
   "outputs": [],
   "source": [
    "\n",
    "max_iters = 100\n",
    "gamma = 0.0000001  # Tasso di apprendimento iniziale\n",
    "x_initial = np.zeros(A.shape[1])\n",
    "\n",
    "\n",
    "# Start gradient descent.\n",
    "gradient_objectives_naive, gradient_xs_naive = gradient_descent(A, x_initial, b, max_iters, gamma)\n",
    "print(\"########################\")\n",
    "\n",
    "plt.figure(figsize=(8, 8))\n",
    "plt.xlabel('Number of steps')\n",
    "plt.ylabel('Objective Function')\n",
    "plt.plot(range(len(gradient_objectives_naive)), gradient_objectives_naive,'red', label='naive gradient descent')\n",
    "\n"
   ]
  },
  {
   "cell_type": "markdown",
   "metadata": {},
   "source": [
    "We can try also to use a smoothness gradient descent with L parameter"
   ]
  },
  {
   "cell_type": "code",
   "execution_count": null,
   "metadata": {},
   "outputs": [],
   "source": [
    "def calculate_L(A, b):\n",
    "    \"\"\"Calculate the smoothness constant for f\"\"\"\n",
    "    # ***************************************************\n",
    "    # YOUR CODE HERE\n",
    "    # compute L = smoothness constant of f\n",
    "    L = 2 * np.linalg.norm(A.T.dot(A), ord=2)\n",
    "    # ***************************************************\n",
    "    return L"
   ]
  },
  {
   "cell_type": "code",
   "execution_count": null,
   "metadata": {},
   "outputs": [],
   "source": [
    "\n",
    "max_iters = 20\n",
    "gamma_smooth = 1/calculate_L(A,b)\n",
    "print(gamma_smooth)\n",
    "x_initial = np.zeros(A.shape[1])\n",
    "\n",
    "# Start gradient descent.\n",
    "gradient_objectives_smooth, gradient_xs_smooth = gradient_descent(A, x_initial, b, max_iters, gamma_smooth)\n",
    "\n",
    "plt.figure(figsize=(8, 8))\n",
    "plt.xlabel('Number of steps')\n",
    "plt.ylabel('Objective Function')\n",
    "plt.plot(range(len(gradient_objectives_smooth)), gradient_objectives_smooth,'green', label='gradient descent assuming smoothness')"
   ]
  },
  {
   "cell_type": "markdown",
   "metadata": {},
   "source": [
    "LIPSCHITZ"
   ]
  },
  {
   "cell_type": "code",
   "execution_count": 48,
   "metadata": {},
   "outputs": [
    {
     "name": "stdout",
     "output_type": "stream",
     "text": [
      "Gradient Descent(0/49): objective=3659.00000, x=[-0.00000,0.00000,0.00000,0.00000]\n",
      "Gradient Descent(1/49): objective=3658.99951, x=[0.00000,0.00000,0.00000,0.00000]\n",
      "Gradient Descent(2/49): objective=3658.99912, x=[0.00000,0.00000,0.00000,0.00000]\n",
      "Gradient Descent(3/49): objective=3658.99881, x=[0.00000,0.00000,0.00000,0.00000]\n",
      "Gradient Descent(4/49): objective=3658.99855, x=[0.00000,0.00000,0.00000,0.00000]\n",
      "Gradient Descent(5/49): objective=3658.99833, x=[0.00000,0.00000,0.00000,0.00000]\n",
      "Gradient Descent(6/49): objective=3658.99814, x=[0.00000,0.00000,0.00000,0.00000]\n",
      "Gradient Descent(7/49): objective=3658.99797, x=[0.00000,0.00000,0.00000,0.00000]\n",
      "Gradient Descent(8/49): objective=3658.99782, x=[0.00000,0.00000,0.00000,0.00000]\n",
      "Gradient Descent(9/49): objective=3658.99768, x=[0.00000,0.00000,0.00000,0.00000]\n",
      "Gradient Descent(10/49): objective=3658.99755, x=[0.00000,0.00000,0.00000,0.00000]\n",
      "Gradient Descent(11/49): objective=3658.99743, x=[0.00000,0.00000,0.00000,0.00000]\n",
      "Gradient Descent(12/49): objective=3658.99731, x=[0.00000,0.00000,0.00000,0.00000]\n",
      "Gradient Descent(13/49): objective=3658.99719, x=[0.00000,0.00000,0.00000,0.00000]\n",
      "Gradient Descent(14/49): objective=3658.99708, x=[0.00000,0.00000,0.00000,0.00000]\n",
      "Gradient Descent(15/49): objective=3658.99696, x=[0.00000,0.00000,0.00000,0.00000]\n",
      "Gradient Descent(16/49): objective=3658.99685, x=[0.00000,0.00000,0.00000,0.00000]\n",
      "Gradient Descent(17/49): objective=3658.99675, x=[0.00000,0.00000,0.00000,0.00000]\n",
      "Gradient Descent(18/49): objective=3658.99664, x=[0.00000,0.00000,0.00000,0.00000]\n",
      "Gradient Descent(19/49): objective=3658.99653, x=[0.00000,0.00000,0.00000,0.00000]\n",
      "Gradient Descent(20/49): objective=3658.99642, x=[0.00000,0.00000,0.00000,0.00000]\n",
      "Gradient Descent(21/49): objective=3658.99631, x=[0.00000,0.00000,0.00000,0.00000]\n",
      "Gradient Descent(22/49): objective=3658.99621, x=[0.00000,0.00000,0.00000,0.00000]\n",
      "Gradient Descent(23/49): objective=3658.99610, x=[0.00000,0.00000,0.00000,0.00000]\n",
      "Gradient Descent(24/49): objective=3658.99599, x=[0.00000,0.00000,0.00000,0.00000]\n",
      "Gradient Descent(25/49): objective=3658.99589, x=[0.00000,0.00000,0.00000,0.00000]\n",
      "Gradient Descent(26/49): objective=3658.99578, x=[0.00000,0.00000,0.00000,0.00000]\n",
      "Gradient Descent(27/49): objective=3658.99567, x=[0.00000,0.00000,0.00000,0.00000]\n",
      "Gradient Descent(28/49): objective=3658.99557, x=[0.00000,0.00000,0.00000,0.00000]\n",
      "Gradient Descent(29/49): objective=3658.99546, x=[0.00000,0.00000,0.00000,0.00000]\n",
      "Gradient Descent(30/49): objective=3658.99535, x=[0.00000,0.00000,0.00000,0.00000]\n",
      "Gradient Descent(31/49): objective=3658.99525, x=[0.00000,0.00000,0.00000,0.00000]\n",
      "Gradient Descent(32/49): objective=3658.99514, x=[0.00000,0.00000,0.00000,0.00000]\n",
      "Gradient Descent(33/49): objective=3658.99504, x=[0.00000,0.00000,0.00000,0.00000]\n",
      "Gradient Descent(34/49): objective=3658.99493, x=[0.00000,0.00000,0.00000,0.00000]\n",
      "Gradient Descent(35/49): objective=3658.99482, x=[0.00000,0.00000,0.00000,0.00000]\n",
      "Gradient Descent(36/49): objective=3658.99472, x=[0.00000,0.00000,0.00000,0.00000]\n",
      "Gradient Descent(37/49): objective=3658.99461, x=[0.00000,0.00000,0.00000,0.00000]\n",
      "Gradient Descent(38/49): objective=3658.99450, x=[0.00000,0.00000,0.00000,0.00000]\n",
      "Gradient Descent(39/49): objective=3658.99440, x=[0.00000,0.00000,0.00000,0.00000]\n",
      "Gradient Descent(40/49): objective=3658.99429, x=[0.00000,0.00000,0.00000,0.00000]\n",
      "Gradient Descent(41/49): objective=3658.99419, x=[0.00000,0.00000,0.00000,0.00000]\n",
      "Gradient Descent(42/49): objective=3658.99408, x=[0.00000,0.00000,0.00000,0.00000]\n",
      "Gradient Descent(43/49): objective=3658.99397, x=[0.00000,0.00000,0.00000,0.00000]\n",
      "Gradient Descent(44/49): objective=3658.99387, x=[0.00000,0.00000,0.00000,0.00000]\n",
      "Gradient Descent(45/49): objective=3658.99376, x=[0.00000,0.00000,0.00000,0.00000]\n",
      "Gradient Descent(46/49): objective=3658.99365, x=[0.00000,0.00000,0.00000,0.00000]\n",
      "Gradient Descent(47/49): objective=3658.99355, x=[0.00000,0.00000,0.00000,0.00000]\n",
      "Gradient Descent(48/49): objective=3658.99344, x=[0.00000,0.00000,0.00000,0.00000]\n",
      "Gradient Descent(49/49): objective=3658.99333, x=[0.00000,0.00000,0.00000,0.00000]\n"
     ]
    },
    {
     "data": {
      "text/plain": [
       "[<matplotlib.lines.Line2D at 0x14d02d04910>]"
      ]
     },
     "execution_count": 48,
     "metadata": {},
     "output_type": "execute_result"
    },
    {
     "data": {
      "image/png": "[encoded data removed]",
      "text/plain": [
       "<Figure size 800x800 with 1 Axes>"
      ]
     },
     "metadata": {},
     "output_type": "display_data"
    }
   ],
   "source": [
    "max_iters = 50\n",
    "R = 25\n",
    "\n",
    "# ***************************************************\n",
    "# YOUR CODE HERE\n",
    "# Compute the bound B on the gradient norm\n",
    "B = 2 * (R*np.linalg.norm(np.dot(A.T,A)) + np.linalg.norm(np.dot(A.T,b)))\n",
    "# ***************************************************\n",
    "\n",
    "# ***************************************************\n",
    "# YOUR CODE HERE\n",
    "#  Compute learning rate based on bounded gradient\n",
    "gamma_bounded = R/(B*np.sqrt(max_iters))\n",
    "# ***************************************************\n",
    "\n",
    "# Start gradient descent.\n",
    "gradient_objectives_bounded, gradient_xs_bounded = gradient_descent(A, x_initial, b, max_iters, gamma_bounded)\n",
    "plt.figure(figsize=(8, 8))\n",
    "plt.xlabel('Number of steps')\n",
    "plt.ylabel('Objective Function')\n",
    "plt.plot(range(len(gradient_objectives_bounded)), gradient_objectives_bounded,'blue', label='gradient descent assuming bounded gradients')"
   ]
  },
  {
   "cell_type": "markdown",
   "metadata": {},
   "source": [
    "STOCHASTIC GRADIENT\n"
   ]
  },
  {
   "cell_type": "code",
   "execution_count": null,
   "metadata": {},
   "outputs": [],
   "source": [
    "def full_objective(A, x, b):\n",
    "    \"\"\"Compute the least squares objective over the whole dataset\"\"\"\n",
    "    return np.mean((A.dot(x) - b)**2)\n",
    "\n",
    "x_star = np.linalg.solve(A.T.dot(A), A.T.dot(b)) #solve Ax = b\n",
    "best_objective = full_objective(A, x_star, b)\n",
    "print(\"f(x*) = \", best_objective)"
   ]
  },
  {
   "cell_type": "code",
   "execution_count": null,
   "metadata": {},
   "outputs": [],
   "source": [
    "def minibatch_gradient(A, x, b):\n",
    "    \"\"\"\n",
    "    Compute a mini-batch stochastic gradient from a subset of `num_examples` from the dataset.\n",
    "    \n",
    "    :param b: a numpy array of shape (num_examples)\n",
    "    :param A: a numpy array of shape (num_examples, num_features)\n",
    "    :param x: compute the mini-batch gradient at these parameters, numpy array of shape (num_features)\n",
    "    \n",
    "    :return: gradient: numpy array of shape (num_features)\n",
    "    \"\"\"\n",
    "    # ***************************************************\n",
    "    # YOUR CODE HERE\n",
    "    # TODO: implement gradient computation.\n",
    "    # ***************************************************\n",
    "    batch_size = len(b)\n",
    "    Axmb = A.dot(x) - b\n",
    "    gradient = A.T.dot(Axmb) / batch_size\n",
    "    return gradient"
   ]
  },
  {
   "cell_type": "code",
   "execution_count": null,
   "metadata": {},
   "outputs": [],
   "source": [
    "num_trials = 10\n",
    "for i in range(num_trials):\n",
    "    # Try different parameter vectors $x$\n",
    "    x = np.random.rand(A.shape[1])\n",
    "\n",
    "    stochastic_gradients = []\n",
    "    # *********************************************************\n",
    "    # YOUR CODE HERE\n",
    "    # TODO: Compute all stochastic gradients, mini-batch size 1\n",
    "    # *********************************************************\n",
    "    for i in range(len(b)):\n",
    "        stochastic_gradients.append(minibatch_gradient(A[i:i+1, :], x, b[i:i+1]))\n",
    "\n",
    "    # axis = 0 is the mean along the column\n",
    "    mean_stochastic_gradients = np.mean(stochastic_gradients, axis = 0)\n",
    "\n",
    "    # *********************************************************\n",
    "    # YOUR CODE HERE\n",
    "    # *********************************************************\n",
    "    full_gradient = minibatch_gradient(A, x, b)\n",
    "\n",
    "    # Those should be the same on average\n",
    "    assert np.allclose(mean_stochastic_gradients, full_gradient)\n",
    "    \n",
    "print('Tests passed')"
   ]
  },
  {
   "cell_type": "code",
   "execution_count": null,
   "metadata": {},
   "outputs": [],
   "source": [
    "def stochastic_gradient(A, x, b, batch_size=1):\n",
    "    \"\"\"Compute a stochastic gradient\"\"\"\n",
    "    dataset_size = len(b)\n",
    "    indices = np.random.choice(dataset_size, batch_size, replace=False)\n",
    "    return minibatch_gradient(A[indices, :], x, b[indices])\n",
    "\n",
    "def stochastic_gradient_descent(\n",
    "        data_A, \n",
    "        initial_x, \n",
    "        targets_b, \n",
    "        batch_size, \n",
    "        max_iters, \n",
    "        learning_rate):\n",
    "    \"\"\"\n",
    "    Mini-batch Stochastic Gradient Descent for Linear Least Squares problems.\n",
    "    \n",
    "    :param data_A: numpy array of size (num_examples, num_features)\n",
    "    :param initial_x: starting parameters, a numpy array of size (num_features)\n",
    "    :param targets_b: numpy array of size (num_examples)\n",
    "    :param batch_size: size of the mini-batches\n",
    "    :param max_iters: integer, number of updates to do\n",
    "    :param learning_rate: float\n",
    "    :param decreasing_learning_rate: if true, the learning rate should decay as 1 / t \n",
    "    \n",
    "    :return:\n",
    "    - objectives, a list of loss values on the whole dataset, collected at the end of each pass over the dataset (epoch)\n",
    "    - xs, a list of parameter vectors, collected at the end of each pass over the dataset\n",
    "    \"\"\"\n",
    "    xs = [initial_x]  # parameters after each update \n",
    "    objectives = []  # loss values after each update\n",
    "    x = initial_x\n",
    "    \n",
    "    # ***************************************************\n",
    "    # YOUR CODE HERE\n",
    "    # TODO: implement stochastic gradient descent.\n",
    "    # ***************************************************\n",
    "    for iteration in range(max_iters):\n",
    "        grad = stochastic_gradient(data_A, x, targets_b, batch_size=batch_size)\n",
    "\n",
    "        # update x through the stochastic gradient update\n",
    "        x = x - learning_rate * grad\n",
    "\n",
    "        # store x and objective\n",
    "        xs.append(x.copy())\n",
    "        objective = full_objective(data_A, x, targets_b)\n",
    "        objectives.append(objective)\n",
    "        \n",
    "        if iteration % 1000 == 0:\n",
    "            print(\"SGD({bi:04d}/{ti:04d}): objective = {l:10.2f}\".format(\n",
    "                  bi=iteration, ti=max_iters - 1, l=objective))\n",
    "\n",
    "    return objectives, xs"
   ]
  },
  {
   "cell_type": "code",
   "execution_count": null,
   "metadata": {},
   "outputs": [],
   "source": [
    "import datetime\n",
    "\n",
    "# Define the parameters of the algorithm.\n",
    "max_iters = int(1e4)\n",
    "gamma = 0.2   # this is totally arbitrary\n",
    "batch_size = 1\n",
    "\n",
    "# Initialization\n",
    "x_initial = np.zeros(A.shape[1])\n",
    "\n",
    "# Start SGD.\n",
    "start_time = datetime.datetime.now()\n",
    "sgd_objectives, sgd_xs = stochastic_gradient_descent(A, x_initial, b, batch_size, max_iters, gamma)\n",
    "end_time = datetime.datetime.now()\n",
    "\n",
    "# Print result\n",
    "exection_time = (end_time - start_time).total_seconds()\n",
    "print(\"SGD: execution time={t:.3f} seconds\".format(t=exection_time))"
   ]
  },
  {
   "cell_type": "code",
   "execution_count": null,
   "metadata": {},
   "outputs": [],
   "source": [
    "plt.title('Convergence rates', fontsize = 20)\n",
    "plt.loglog(sgd_objectives - best_objective, label = r'$\\gamma = 0.2$')\n",
    "plt.xlabel('iteration t'  , fontsize = 20)\n",
    "plt.ylabel(r'$f(x_t) - f(x^*)$', fontsize = 20)\n",
    "plt.legend(fontsize = 20)\n",
    "plt.show()"
   ]
  }
 ],
 "metadata": {
  "kernelspec": {
   "display_name": "base",
   "language": "python",
   "name": "python3"
  },
  "language_info": {
   "codemirror_mode": {
    "name": "ipython",
    "version": 3
   },
   "file_extension": ".py",
   "mimetype": "text/x-python",
   "name": "python",
   "nbconvert_exporter": "python",
   "pygments_lexer": "ipython3",
   "version": "3.11.4"
  }
 },
 "nbformat": 4,
 "nbformat_minor": 2
}
