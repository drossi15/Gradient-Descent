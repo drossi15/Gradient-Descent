{
 "cells": [
  {
   "cell_type": "markdown",
   "metadata": {},
   "source": [
    "# My project for Optimization Course"
   ]
  },
  {
   "cell_type": "markdown",
   "metadata": {},
   "source": [
    "Multivariate linear regression implemented through solving an optimization problem using the gradient descent method and some of its variants.\n",
    "\n",
    "The dataset used was taken from Kaggle.com and concerns house prices in the New York area. The idea is to perform a linear regression using the price as the dependent variable and the number of bedrooms, number of bathrooms, and the size of the house as independent variables."
   ]
  },
  {
   "cell_type": "code",
   "execution_count": 1,
   "metadata": {},
   "outputs": [
    {
     "name": "stdout",
     "output_type": "stream",
     "text": [
      "                                         BROKERTITLE                TYPE   \n",
      "0        Brokered by Douglas Elliman  -111 Fifth Ave      Condo for sale  \\\n",
      "1                                Brokered by Serhant      Condo for sale   \n",
      "2                             Brokered by Sowae Corp      House for sale   \n",
      "3                                Brokered by COMPASS      Condo for sale   \n",
      "4  Brokered by Sotheby's International Realty - E...  Townhouse for sale   \n",
      "\n",
      "       PRICE  BEDS       BATH  PROPERTYSQFT   \n",
      "0     315000     2   2.000000        1400.0  \\\n",
      "1  195000000     7  10.000000       17545.0   \n",
      "2     260000     4   2.000000        2015.0   \n",
      "3      69000     3   1.000000         445.0   \n",
      "4   55000000     7   2.373861       14175.0   \n",
      "\n",
      "                                             ADDRESS                    STATE   \n",
      "0                               2 E 55th St Unit 803       New York, NY 10022  \\\n",
      "1  Central Park Tower Penthouse-217 W 57th New Yo...       New York, NY 10019   \n",
      "2                                   620 Sinclair Ave  Staten Island, NY 10312   \n",
      "3                            2 E 55th St Unit 908W33      Manhattan, NY 10022   \n",
      "4                                        5 E 64th St       New York, NY 10065   \n",
      "\n",
      "                                        MAIN_ADDRESS   \n",
      "0             2 E 55th St Unit 803New York, NY 10022  \\\n",
      "1  Central Park Tower Penthouse-217 W 57th New Yo...   \n",
      "2            620 Sinclair AveStaten Island, NY 10312   \n",
      "3         2 E 55th St Unit 908W33Manhattan, NY 10022   \n",
      "4                      5 E 64th StNew York, NY 10065   \n",
      "\n",
      "  ADMINISTRATIVE_AREA_LEVEL_2  LOCALITY      SUBLOCALITY       STREET_NAME   \n",
      "0             New York County  New York        Manhattan  East 55th Street  \\\n",
      "1               United States  New York  New York County          New York   \n",
      "2               United States  New York  Richmond County     Staten Island   \n",
      "3               United States  New York  New York County          New York   \n",
      "4               United States  New York  New York County          New York   \n",
      "\n",
      "          LONG_NAME                                  FORMATTED_ADDRESS   \n",
      "0   Regis Residence  Regis Residence, 2 E 55th St #803, New York, N...  \\\n",
      "1  West 57th Street             217 W 57th St, New York, NY 10019, USA   \n",
      "2   Sinclair Avenue     620 Sinclair Ave, Staten Island, NY 10312, USA   \n",
      "3  East 55th Street               2 E 55th St, New York, NY 10022, USA   \n",
      "4  East 64th Street               5 E 64th St, New York, NY 10065, USA   \n",
      "\n",
      "    LATITUDE  LONGITUDE  \n",
      "0  40.761255 -73.974483  \n",
      "1  40.766393 -73.980991  \n",
      "2  40.541805 -74.196109  \n",
      "3  40.761398 -73.974613  \n",
      "4  40.767224 -73.969856  \n"
     ]
    }
   ],
   "source": [
    "\n",
    "%matplotlib inline\n",
    "import pandas as pd\n",
    "import numpy as np\n",
    "import matplotlib.pyplot as plt\n",
    "\n",
    "df = pd.read_csv(\"dataset/NY-House-Dataset.csv\")\n",
    "print(df.head())\n",
    "\n"
   ]
  },
  {
   "cell_type": "markdown",
   "metadata": {},
   "source": [
    "1) Data Cleaning\n"
   ]
  },
  {
   "cell_type": "code",
   "execution_count": 2,
   "metadata": {},
   "outputs": [
    {
     "name": "stdout",
     "output_type": "stream",
     "text": [
      "<bound method NDFrame.head of         PRICE  BEDS  BATH  PROPERTYSQFT\n",
      "0      315000     2   2.0   1400.000000\n",
      "2      260000     4   2.0   2015.000000\n",
      "3       69000     3   1.0    445.000000\n",
      "6      899500     2   2.0   2184.207862\n",
      "8      265000     1   1.0    750.000000\n",
      "...       ...   ...   ...           ...\n",
      "4796   599000     1   1.0   2184.207862\n",
      "4797   245000     1   1.0   2184.207862\n",
      "4798  1275000     1   1.0   2184.207862\n",
      "4799   598125     2   1.0    655.000000\n",
      "4800   349000     1   1.0    750.000000\n",
      "\n",
      "[3659 rows x 4 columns]>\n"
     ]
    }
   ],
   "source": [
    "#ELIMINO LE COLONNE NON DESIDERATE\n",
    "\n",
    "columns_to_drop = [\"ADDRESS\", \"STATE\", \"MAIN_ADDRESS\", \"ADMINISTRATIVE_AREA_LEVEL_2\", \n",
    "                   \"LOCALITY\", \"STREET_NAME\", \"LONG_NAME\", \"FORMATTED_ADDRESS\", \n",
    "                   \"LATITUDE\", \"LONGITUDE\",\"TYPE\",\"SUBLOCALITY\",\"BROKERTITLE\"]\n",
    "df_filtered = df.drop(columns=columns_to_drop)\n",
    "\n",
    "\n",
    "#FILTRO GLI OUTLIER\n",
    "vars = [\"PRICE\", \"BEDS\", \"BATH\", \"PROPERTYSQFT\"]\n",
    "\n",
    "# Filtra i valori anomali utilizzando il concetto di IQR\n",
    "for var in vars:\n",
    "    Q1 = df_filtered[var].quantile(0.25)\n",
    "    Q3 = df_filtered[var].quantile(0.75)\n",
    "    \n",
    "    IQR = Q3 - Q1\n",
    "    lower_limit = Q1 - 1.5 * IQR\n",
    "    upper_limit = Q3 + 1.5 * IQR\n",
    "    \n",
    "    df_filtered = df_filtered[(df_filtered[var] >= lower_limit) & (df_filtered[var] <= upper_limit)]\n",
    "    \n",
    "print(df_filtered.head)\n",
    "    \n"
   ]
  },
  {
   "cell_type": "markdown",
   "metadata": {},
   "source": [
    "Regression Model:\n",
    "\n",
    "$y = w_0 + w_1 x1 + w_2 x2 + w_3 x3$\n",
    "\n",
    "In this case:\n",
    "\n",
    "$PRICE = w_0 + w_1 BEDS + w_2 BATH + w_3 PROPERTYSQFT$\n",
    "\n"
   ]
  },
  {
   "cell_type": "code",
   "execution_count": 3,
   "metadata": {},
   "outputs": [],
   "source": [
    "def standardize(x):\n",
    "    \"\"\"Standardize the original data points (mean 0 and std dev 1).\"\"\"\n",
    "    x = x - np.mean(x)\n",
    "    x = x / np.std(x)\n",
    "    return x\n",
    "\n",
    "def build_model_data(x, y):\n",
    "    \"\"\"Get regression data in matrix form.\"\"\"\n",
    "    b = y\n",
    "    num_samples = len(b)\n",
    "    A = np.c_[np.ones(num_samples), x]\n",
    "    return A, b\n",
    "\n"
   ]
  },
  {
   "cell_type": "code",
   "execution_count": 4,
   "metadata": {},
   "outputs": [
    {
     "name": "stdout",
     "output_type": "stream",
     "text": [
      "      BEDS  BATH\n",
      "0        2   2.0\n",
      "2        4   2.0\n",
      "3        3   1.0\n",
      "6        2   2.0\n",
      "8        1   1.0\n",
      "...    ...   ...\n",
      "4796     1   1.0\n",
      "4797     1   1.0\n",
      "4798     1   1.0\n",
      "4799     2   1.0\n",
      "4800     1   1.0\n",
      "\n",
      "[3659 rows x 2 columns]\n",
      "0        315000\n",
      "2        260000\n",
      "3         69000\n",
      "6        899500\n",
      "8        265000\n",
      "         ...   \n",
      "4796     599000\n",
      "4797     245000\n",
      "4798    1275000\n",
      "4799     598125\n",
      "4800     349000\n",
      "Name: PRICE, Length: 3659, dtype: int64\n",
      "Numero di condizionamento di A: 3.034159332975248\n"
     ]
    }
   ],
   "source": [
    "\n",
    "features = df_filtered[['BEDS','BATH']]\n",
    "prices = df_filtered['PRICE']\n",
    "print(features)\n",
    "print(prices)\n",
    "\n",
    "A, b = build_model_data(standardize(features), standardize(prices))\n",
    "A = np.array(A)\n",
    "b = np.array(b)\n",
    "\n",
    "cond_number = np.linalg.cond(A)\n",
    "print(\"Numero di condizionamento di A:\", cond_number)\n",
    "\n",
    "\n"
   ]
  },
  {
   "cell_type": "code",
   "execution_count": 5,
   "metadata": {},
   "outputs": [
    {
     "name": "stdout",
     "output_type": "stream",
     "text": [
      "Number of samples n =  3659\n",
      "Dimension of each sample d =  3\n"
     ]
    }
   ],
   "source": [
    "print('Number of samples n = ', b.shape[0])\n",
    "print('Dimension of each sample d = ', A.shape[1])"
   ]
  },
  {
   "cell_type": "code",
   "execution_count": null,
   "metadata": {},
   "outputs": [],
   "source": []
  },
  {
   "cell_type": "markdown",
   "metadata": {},
   "source": [
    "1. Gradient descendent method functions"
   ]
  },
  {
   "cell_type": "code",
   "execution_count": 15,
   "metadata": {},
   "outputs": [],
   "source": [
    "def calculate_objective(Axmb):\n",
    "    \"\"\"Calculate ||Ax - b||^2 for the vector Axmb = Ax - b\"\"\"\n",
    "    # ***************************************************\n",
    "    # YOUR CODE HERE\n",
    "    obj = (Axmb**2).sum()\n",
    "    # ***************************************************    \n",
    "    return obj\n",
    "\n",
    "def compute_gradient(A, x, b):\n",
    "    \"\"\"Compute the gradient and objective function.\"\"\"\n",
    "    # ***************************************************\n",
    "    # YOUR CODE HERE\n",
    "    Axmb = A.dot(x) - b\n",
    "    grad = 2 * A.T.dot(Axmb)\n",
    "    # ***************************************************\n",
    "    return grad, Axmb\n",
    "\n",
    "def gradient_descent(A, initial_x, b, max_iters, gamma):\n",
    "    \"\"\"Gradient descent algorithm.\"\"\"\n",
    "    # Define parameters to store x and objective func. values\n",
    "    xs = [initial_x]\n",
    "    objectives = []\n",
    "    x = initial_x\n",
    "    for n_iter in range(max_iters):\n",
    "      \n",
    "        # compute objective and gradient\n",
    "        grad, Axmb = compute_gradient(A, x, b)\n",
    "        obj = calculate_objective(Axmb)\n",
    "\n",
    "        # ***************************************************\n",
    "        # YOUR CODE HERE\n",
    "        # update x by a gradient descent step\n",
    "        x = x - gamma * grad\n",
    "        # ***************************************************\n",
    "        \n",
    "        # store x and objective function value\n",
    "        xs.append(x)\n",
    "        objectives.append(obj)\n",
    "        \n",
    "        print(\"Gradient Descent({bi}/{ti}): objective={l:.5f}, x=[{w0:.5f},{w1:.5f},{w2:.5f}]\".format(\n",
    "              bi=n_iter, ti=max_iters - 1, l=obj, w0=x[0], w1=x[1], w2=x[2] ))\n",
    "\n",
    "    return objectives, xs\n"
   ]
  },
  {
   "cell_type": "markdown",
   "metadata": {},
   "source": [
    "test Classic Gradient descent "
   ]
  },
  {
   "cell_type": "code",
   "execution_count": 23,
   "metadata": {},
   "outputs": [
    {
     "name": "stdout",
     "output_type": "stream",
     "text": [
      "Gradient Descent(0/49): objective=3659.00000, x=[-0.00000,0.22619,0.36481]\n",
      "Gradient Descent(1/49): objective=2982.20825, x=[0.12673,0.16245,0.27031]\n",
      "Gradient Descent(2/49): objective=2872.56560, x=[0.12921,0.14556,0.36042]\n",
      "Gradient Descent(3/49): objective=2827.99495, x=[0.17983,0.11620,0.35910]\n",
      "Gradient Descent(4/49): objective=2803.29778, x=[0.20026,0.09836,0.39322]\n",
      "Gradient Descent(5/49): objective=2787.23272, x=[0.22759,0.08020,0.40585]\n",
      "Gradient Descent(6/49): objective=2776.14824, x=[0.24597,0.06636,0.42383]\n",
      "Gradient Descent(7/49): objective=2768.35616, x=[0.26355,0.05404,0.43561]\n",
      "Gradient Descent(8/49): objective=2762.84771, x=[0.27739,0.04398,0.44706]\n",
      "Gradient Descent(9/49): objective=2758.94715, x=[0.28948,0.03537,0.45600]\n",
      "Gradient Descent(10/49): objective=2756.18378, x=[0.29945,0.02818,0.46384]\n",
      "Gradient Descent(11/49): objective=2754.22578, x=[0.30794,0.02211,0.47030]\n",
      "Gradient Descent(12/49): objective=2752.83837, x=[0.31504,0.01700,0.47580]\n",
      "Gradient Descent(13/49): objective=2751.85526, x=[0.32104,0.01270,0.48040]\n",
      "Gradient Descent(14/49): objective=2751.15863, x=[0.32608,0.00908,0.48429]\n",
      "Gradient Descent(15/49): objective=2750.66499, x=[0.33033,0.00604,0.48755]\n",
      "Gradient Descent(16/49): objective=2750.31521, x=[0.33390,0.00347,0.49031]\n",
      "Gradient Descent(17/49): objective=2750.06735, x=[0.33691,0.00131,0.49262]\n",
      "Gradient Descent(18/49): objective=2749.89172, x=[0.33945,-0.00050,0.49457]\n",
      "Gradient Descent(19/49): objective=2749.76727, x=[0.34158,-0.00203,0.49621]\n",
      "Gradient Descent(20/49): objective=2749.67908, x=[0.34337,-0.00332,0.49759]\n",
      "Gradient Descent(21/49): objective=2749.61659, x=[0.34488,-0.00440,0.49875]\n",
      "Gradient Descent(22/49): objective=2749.57231, x=[0.34615,-0.00532,0.49973]\n",
      "Gradient Descent(23/49): objective=2749.54094, x=[0.34723,-0.00608,0.50056]\n",
      "Gradient Descent(24/49): objective=2749.51870, x=[0.34813,-0.00673,0.50125]\n",
      "Gradient Descent(25/49): objective=2749.50295, x=[0.34888,-0.00727,0.50183]\n",
      "Gradient Descent(26/49): objective=2749.49179, x=[0.34952,-0.00773,0.50233]\n",
      "Gradient Descent(27/49): objective=2749.48387, x=[0.35006,-0.00812,0.50274]\n",
      "Gradient Descent(28/49): objective=2749.47827, x=[0.35051,-0.00844,0.50309]\n",
      "Gradient Descent(29/49): objective=2749.47430, x=[0.35089,-0.00872,0.50338]\n",
      "Gradient Descent(30/49): objective=2749.47148, x=[0.35121,-0.00895,0.50363]\n",
      "Gradient Descent(31/49): objective=2749.46949, x=[0.35148,-0.00914,0.50384]\n",
      "Gradient Descent(32/49): objective=2749.46808, x=[0.35171,-0.00930,0.50401]\n",
      "Gradient Descent(33/49): objective=2749.46707, x=[0.35190,-0.00944,0.50416]\n",
      "Gradient Descent(34/49): objective=2749.46636, x=[0.35206,-0.00955,0.50428]\n",
      "Gradient Descent(35/49): objective=2749.46586, x=[0.35220,-0.00965,0.50439]\n",
      "Gradient Descent(36/49): objective=2749.46551, x=[0.35231,-0.00973,0.50447]\n",
      "Gradient Descent(37/49): objective=2749.46525, x=[0.35241,-0.00980,0.50455]\n",
      "Gradient Descent(38/49): objective=2749.46507, x=[0.35249,-0.00986,0.50461]\n",
      "Gradient Descent(39/49): objective=2749.46495, x=[0.35256,-0.00991,0.50466]\n",
      "Gradient Descent(40/49): objective=2749.46486, x=[0.35262,-0.00995,0.50471]\n",
      "Gradient Descent(41/49): objective=2749.46479, x=[0.35266,-0.00999,0.50474]\n",
      "Gradient Descent(42/49): objective=2749.46475, x=[0.35270,-0.01001,0.50477]\n",
      "Gradient Descent(43/49): objective=2749.46472, x=[0.35274,-0.01004,0.50480]\n",
      "Gradient Descent(44/49): objective=2749.46469, x=[0.35277,-0.01006,0.50482]\n",
      "Gradient Descent(45/49): objective=2749.46468, x=[0.35279,-0.01008,0.50484]\n",
      "Gradient Descent(46/49): objective=2749.46467, x=[0.35281,-0.01009,0.50486]\n",
      "Gradient Descent(47/49): objective=2749.46466, x=[0.35283,-0.01010,0.50487]\n",
      "Gradient Descent(48/49): objective=2749.46465, x=[0.35284,-0.01011,0.50488]\n",
      "Gradient Descent(49/49): objective=2749.46465, x=[0.35286,-0.01012,0.50489]\n"
     ]
    }
   ],
   "source": [
    "\n",
    "max_iters = 50\n",
    "gamma = 0.0001 # Tasso di apprendimento iniziale\n",
    "x_initial = np.zeros(A.shape[1])\n",
    "\n",
    "gradient_objectives_naive, gradient_xs_naive = gradient_descent(A, x_initial, b, max_iters, gamma)\n",
    "\n",
    "\n",
    "\n"
   ]
  },
  {
   "cell_type": "markdown",
   "metadata": {},
   "source": [
    "We can try also to use a smoothness gradient descent with L parameter"
   ]
  },
  {
   "cell_type": "code",
   "execution_count": 18,
   "metadata": {},
   "outputs": [],
   "source": [
    "def calculate_L(A, b):\n",
    "    \"\"\"Calculate the smoothness constant for f\"\"\"\n",
    "    # ***************************************************\n",
    "    # YOUR CODE HERE\n",
    "    # compute L = smoothness constant of f\n",
    "    L = 2 * np.linalg.norm(A.T.dot(A), ord=2)\n",
    "    # ***************************************************\n",
    "    return L"
   ]
  },
  {
   "cell_type": "code",
   "execution_count": 27,
   "metadata": {},
   "outputs": [
    {
     "name": "stdout",
     "output_type": "stream",
     "text": [
      "6.865455531893832e-05\n",
      "Gradient Descent(0/49): objective=3659.00000, x=[-0.00000,0.15529,0.25046]\n",
      "Gradient Descent(1/49): objective=2943.48948, x=[0.05973,0.17393,0.28442]\n",
      "Gradient Descent(2/49): objective=2884.76876, x=[0.09798,0.16488,0.31027]\n",
      "Gradient Descent(3/49): objective=2855.28225, x=[0.12759,0.14915,0.33198]\n",
      "Gradient Descent(4/49): objective=2833.39107, x=[0.15264,0.13282,0.35094]\n",
      "Gradient Descent(5/49): objective=2816.13504, x=[0.17457,0.11758,0.36772]\n",
      "Gradient Descent(6/49): objective=2802.43655, x=[0.19399,0.10379,0.38264]\n",
      "Gradient Descent(7/49): objective=2791.55348, x=[0.21127,0.09144,0.39593]\n",
      "Gradient Descent(8/49): objective=2782.90642, x=[0.22666,0.08041,0.40777]\n",
      "Gradient Descent(9/49): objective=2776.03588, x=[0.24038,0.07057,0.41833]\n",
      "Gradient Descent(10/49): objective=2770.57688, x=[0.25260,0.06180,0.42773]\n",
      "Gradient Descent(11/49): objective=2766.23942, x=[0.26350,0.05399,0.43612]\n",
      "Gradient Descent(12/49): objective=2762.79308, x=[0.27321,0.04702,0.44360]\n",
      "Gradient Descent(13/49): objective=2760.05478, x=[0.28187,0.04081,0.45026]\n",
      "Gradient Descent(14/49): objective=2757.87906, x=[0.28959,0.03527,0.45620]\n",
      "Gradient Descent(15/49): objective=2756.15034, x=[0.29647,0.03033,0.46149]\n",
      "Gradient Descent(16/49): objective=2754.77678, x=[0.30260,0.02593,0.46621]\n",
      "Gradient Descent(17/49): objective=2753.68541, x=[0.30807,0.02201,0.47042]\n",
      "Gradient Descent(18/49): objective=2752.81826, x=[0.31294,0.01852,0.47417]\n",
      "Gradient Descent(19/49): objective=2752.12927, x=[0.31728,0.01540,0.47751]\n",
      "Gradient Descent(20/49): objective=2751.58183, x=[0.32115,0.01262,0.48049]\n",
      "Gradient Descent(21/49): objective=2751.14686, x=[0.32460,0.01015,0.48315]\n",
      "Gradient Descent(22/49): objective=2750.80125, x=[0.32768,0.00794,0.48551]\n",
      "Gradient Descent(23/49): objective=2750.52664, x=[0.33042,0.00597,0.48762]\n",
      "Gradient Descent(24/49): objective=2750.30846, x=[0.33286,0.00422,0.48951]\n",
      "Gradient Descent(25/49): objective=2750.13510, x=[0.33504,0.00266,0.49118]\n",
      "Gradient Descent(26/49): objective=2749.99735, x=[0.33698,0.00126,0.49268]\n",
      "Gradient Descent(27/49): objective=2749.88791, x=[0.33872,0.00002,0.49401]\n",
      "Gradient Descent(28/49): objective=2749.80095, x=[0.34026,-0.00109,0.49520]\n",
      "Gradient Descent(29/49): objective=2749.73185, x=[0.34163,-0.00207,0.49625]\n",
      "Gradient Descent(30/49): objective=2749.67696, x=[0.34286,-0.00295,0.49720]\n",
      "Gradient Descent(31/49): objective=2749.63334, x=[0.34395,-0.00374,0.49804]\n",
      "Gradient Descent(32/49): objective=2749.59868, x=[0.34493,-0.00443,0.49879]\n",
      "Gradient Descent(33/49): objective=2749.57114, x=[0.34580,-0.00506,0.49946]\n",
      "Gradient Descent(34/49): objective=2749.54926, x=[0.34657,-0.00561,0.50005]\n",
      "Gradient Descent(35/49): objective=2749.53187, x=[0.34726,-0.00611,0.50058]\n",
      "Gradient Descent(36/49): objective=2749.51806, x=[0.34787,-0.00655,0.50106]\n",
      "Gradient Descent(37/49): objective=2749.50709, x=[0.34842,-0.00694,0.50148]\n",
      "Gradient Descent(38/49): objective=2749.49837, x=[0.34891,-0.00729,0.50185]\n",
      "Gradient Descent(39/49): objective=2749.49144, x=[0.34935,-0.00761,0.50219]\n",
      "Gradient Descent(40/49): objective=2749.48593, x=[0.34973,-0.00788,0.50249]\n",
      "Gradient Descent(41/49): objective=2749.48156, x=[0.35008,-0.00813,0.50275]\n",
      "Gradient Descent(42/49): objective=2749.47808, x=[0.35039,-0.00835,0.50299]\n",
      "Gradient Descent(43/49): objective=2749.47532, x=[0.35066,-0.00855,0.50320]\n",
      "Gradient Descent(44/49): objective=2749.47313, x=[0.35091,-0.00873,0.50339]\n",
      "Gradient Descent(45/49): objective=2749.47138, x=[0.35113,-0.00888,0.50356]\n",
      "Gradient Descent(46/49): objective=2749.47000, x=[0.35132,-0.00902,0.50371]\n",
      "Gradient Descent(47/49): objective=2749.46890, x=[0.35150,-0.00915,0.50384]\n",
      "Gradient Descent(48/49): objective=2749.46802, x=[0.35165,-0.00926,0.50396]\n",
      "Gradient Descent(49/49): objective=2749.46733, x=[0.35179,-0.00936,0.50407]\n"
     ]
    }
   ],
   "source": [
    "\n",
    "max_iters = 50\n",
    "gamma_smooth = (1/calculate_L(A,b))\n",
    "print(gamma_smooth)\n",
    "x_initial = np.zeros(A.shape[1])\n",
    "\n",
    "# Start gradient descent.\n",
    "gradient_objectives_smooth, gradient_xs_smooth = gradient_descent(A, x_initial, b, max_iters, gamma_smooth)\n"
   ]
  },
  {
   "cell_type": "markdown",
   "metadata": {},
   "source": [
    "LIPSCHITZ"
   ]
  },
  {
   "cell_type": "code",
   "execution_count": null,
   "metadata": {},
   "outputs": [],
   "source": [
    "max_iters = 500\n",
    "R = 25\n",
    "\n",
    "# ***************************************************\n",
    "# YOUR CODE HERE\n",
    "# Compute the bound B on the gradient norm\n",
    "B = 2 * (R*np.linalg.norm(np.dot(A.T,A)) + np.linalg.norm(np.dot(A.T,b)))\n",
    "# ***************************************************\n",
    "\n",
    "# ***************************************************\n",
    "# YOUR CODE HERE\n",
    "#  Compute learning rate based on bounded gradient\n",
    "gamma_bounded = R/(B*np.sqrt(max_iters))\n",
    "# ***************************************************\n",
    "\n",
    "# Start gradient descent.\n",
    "gradient_objectives_bounded, gradient_xs_bounded = gradient_descent(A, x_initial, b, max_iters, gamma_bounded)"
   ]
  },
  {
   "cell_type": "code",
   "execution_count": 22,
   "metadata": {},
   "outputs": [
    {
     "data": {
      "text/plain": [
       "[<matplotlib.lines.Line2D at 0x29e8fbd9cd0>]"
      ]
     },
     "execution_count": 22,
     "metadata": {},
     "output_type": "execute_result"
    },
    {
     "data": {
      "image/png": "[encoded data removed]",
      "text/plain": [
       "<Figure size 800x800 with 1 Axes>"
      ]
     },
     "metadata": {},
     "output_type": "display_data"
    }
   ],
   "source": [
    "plt.figure(figsize=(8, 8))\n",
    "plt.xlabel('Number of steps')\n",
    "plt.ylabel('Objective Function')\n",
    "plt.plot(range(len(gradient_objectives_smooth)), gradient_objectives_smooth,'green', label='gradient descent assuming smoothness')\n",
    "plt.plot(range(len(gradient_objectives_naive)), gradient_objectives_naive,'red', label='naive gradient descent')\n",
    "#plt.plot(range(len(gradient_objectives_bounded)), gradient_objectives_bounded,'blue', label='gradient descent assuming bounded gradients')"
   ]
  },
  {
   "cell_type": "markdown",
   "metadata": {},
   "source": [
    "STOCHASTIC GRADIENT\n"
   ]
  },
  {
   "cell_type": "code",
   "execution_count": null,
   "metadata": {},
   "outputs": [],
   "source": [
    "def minibatch_gradient(A, x, b):\n",
    "    \"\"\"\n",
    "    Compute a mini-batch stochastic gradient from a subset of `num_examples` from the dataset.\n",
    "    \n",
    "    :param b: a numpy array of shape (num_examples)\n",
    "    :param A: a numpy array of shape (num_examples, num_features)\n",
    "    :param x: compute the mini-batch gradient at these parameters, numpy array of shape (num_features)\n",
    "    \n",
    "    :return: gradient: numpy array of shape (num_features)\n",
    "    \"\"\"\n",
    "    # ***************************************************\n",
    "    # YOUR CODE HERE\n",
    "    # TODO: implement gradient computation.\n",
    "    # ***************************************************\n",
    "    batch_size = len(b)\n",
    "    Axmb = A.dot(x) - b\n",
    "    gradient = A.T.dot(Axmb) / batch_size\n",
    "    return gradient"
   ]
  },
  {
   "cell_type": "code",
   "execution_count": null,
   "metadata": {},
   "outputs": [],
   "source": [
    "num_trials = 10\n",
    "for i in range(num_trials):\n",
    "    # Try different parameter vectors $x$\n",
    "    x = np.random.rand(A.shape[1])\n",
    "\n",
    "    stochastic_gradients = []\n",
    "    # *********************************************************\n",
    "    # YOUR CODE HERE\n",
    "    # TODO: Compute all stochastic gradients, mini-batch size 1\n",
    "    # *********************************************************\n",
    "    for i in range(len(b)):\n",
    "        stochastic_gradients.append(minibatch_gradient(A[i:i+1, :], x, b[i:i+1]))\n",
    "\n",
    "    # axis = 0 is the mean along the column\n",
    "    mean_stochastic_gradients = np.mean(stochastic_gradients, axis = 0)\n",
    "\n",
    "    # *********************************************************\n",
    "    # YOUR CODE HERE\n",
    "    # *********************************************************\n",
    "    full_gradient = minibatch_gradient(A, x, b)\n",
    "\n",
    "    # Those should be the same on average\n",
    "    assert np.allclose(mean_stochastic_gradients, full_gradient)\n",
    "    \n",
    "print('Tests passed')"
   ]
  },
  {
   "cell_type": "code",
   "execution_count": null,
   "metadata": {},
   "outputs": [],
   "source": [
    "def stochastic_gradient(A, x, b, batch_size=1):\n",
    "    \"\"\"Compute a stochastic gradient\"\"\"\n",
    "    dataset_size = len(b)\n",
    "    indices = np.random.choice(dataset_size, batch_size, replace=False)\n",
    "    return minibatch_gradient(A[indices, :], x, b[indices])\n",
    "\n",
    "def stochastic_gradient_descent(\n",
    "        data_A, \n",
    "        initial_x, \n",
    "        targets_b, \n",
    "        batch_size, \n",
    "        max_iters, \n",
    "        learning_rate):\n",
    "    \"\"\"\n",
    "    Mini-batch Stochastic Gradient Descent for Linear Least Squares problems.\n",
    "    \n",
    "    :param data_A: numpy array of size (num_examples, num_features)\n",
    "    :param initial_x: starting parameters, a numpy array of size (num_features)\n",
    "    :param targets_b: numpy array of size (num_examples)\n",
    "    :param batch_size: size of the mini-batches\n",
    "    :param max_iters: integer, number of updates to do\n",
    "    :param learning_rate: float\n",
    "    :param decreasing_learning_rate: if true, the learning rate should decay as 1 / t \n",
    "    \n",
    "    :return:\n",
    "    - objectives, a list of loss values on the whole dataset, collected at the end of each pass over the dataset (epoch)\n",
    "    - xs, a list of parameter vectors, collected at the end of each pass over the dataset\n",
    "    \"\"\"\n",
    "    xs = [initial_x]  # parameters after each update \n",
    "    objectives = []  # loss values after each update\n",
    "    x = initial_x\n",
    "    \n",
    "    # ***************************************************\n",
    "    # YOUR CODE HERE\n",
    "    # TODO: implement stochastic gradient descent.\n",
    "    # ***************************************************\n",
    "    for iteration in range(max_iters):\n",
    "        grad = stochastic_gradient(data_A, x, targets_b, batch_size=batch_size)\n",
    "\n",
    "        # update x through the stochastic gradient update\n",
    "        x = x - learning_rate * grad\n",
    "\n",
    "        # store x and objective\n",
    "        xs.append(x.copy())\n",
    "        objective = full_objective(data_A, x, targets_b)\n",
    "        objectives.append(objective)\n",
    "        \n",
    "        if iteration % 1000 == 0:\n",
    "            print(\"SGD({bi:04d}/{ti:04d}): objective = {l:10.2f}\".format(\n",
    "                  bi=iteration, ti=max_iters - 1, l=objective))\n",
    "\n",
    "    return objectives, xs"
   ]
  },
  {
   "cell_type": "code",
   "execution_count": null,
   "metadata": {},
   "outputs": [],
   "source": [
    "import datetime\n",
    "\n",
    "# Define the parameters of the algorithm.\n",
    "max_iters = int(4000)\n",
    "gamma = 0.001   # this is totally arbitrary\n",
    "batch_size = 1\n",
    "\n",
    "# Initialization\n",
    "x_initial = np.zeros(A.shape[1])\n",
    "\n",
    "# Start SGD.\n",
    "start_time = datetime.datetime.now()\n",
    "sgd_objectives, sgd_xs = stochastic_gradient_descent(A, x_initial, b, batch_size, max_iters, gamma)\n",
    "end_time = datetime.datetime.now()\n",
    "\n",
    "# Print result\n",
    "exection_time = (end_time - start_time).total_seconds()\n",
    "print(\"SGD: execution time={t:.3f} seconds\".format(t=exection_time))\n",
    "plt.plot(range(len(sgd_objectives)), sgd_objectives,'purple', label='gradient descent assuming smoothness')\n",
    "print(best_objective)\n"
   ]
  },
  {
   "cell_type": "code",
   "execution_count": null,
   "metadata": {},
   "outputs": [],
   "source": [
    "plt.title('Convergence rates', fontsize = 20)\n",
    "plt.loglog(sgd_objectives - best_objective, label = r'$\\gamma = 0.001$')\n",
    "plt.xlabel('iteration t'  , fontsize = 20)\n",
    "plt.ylabel(r'$f(x_t) - f(x^*)$', fontsize = 20)\n",
    "plt.legend(fontsize = 20)\n",
    "plt.show()"
   ]
  },
  {
   "cell_type": "markdown",
   "metadata": {},
   "source": [
    "METODO Adam"
   ]
  },
  {
   "cell_type": "code",
   "execution_count": null,
   "metadata": {},
   "outputs": [],
   "source": [
    "def adam(A, initial_x, b, max_iters, alpha, beta1, beta2, epsilon):\n",
    "    \"\"\"Adam optimization algorithm.\"\"\"\n",
    "    x = initial_x\n",
    "    m = np.zeros_like(x)  # Moment estimates\n",
    "    v = np.zeros_like(x)  # Squared gradient estimates\n",
    "    t = 0                # Time step\n",
    "    objectives = []\n",
    "    xs = [x]\n",
    "    \n",
    "    for n_iter in range(max_iters):\n",
    "        t += 1\n",
    "        grad, Axmb = compute_gradient(A, x, b)\n",
    "        obj = calculate_objective(Axmb)\n",
    "        \n",
    "        # Update moments\n",
    "        m = beta1 * m + (1 - beta1) * grad\n",
    "        v = beta2 * v + (1 - beta2) * (grad ** 2)\n",
    "        \n",
    "        # Bias correction\n",
    "        m_hat = m / (1 - beta1 ** t)\n",
    "        v_hat = v / (1 - beta2 ** t)\n",
    "        \n",
    "        # Update parameters\n",
    "        x = x - alpha * m_hat / (np.sqrt(v_hat) + epsilon)\n",
    "        \n",
    "        # Store results\n",
    "        xs.append(x)\n",
    "        objectives.append(obj)\n",
    "        \n",
    "        # Print statement for debugging\n",
    "        if n_iter % 100 == 0:\n",
    "            print(f\"Adam({n_iter}/{max_iters - 1}): objective={obj:.5f}, x=[{x[0]:.5f},{x[1]:.5f}]\")\n",
    "    \n",
    "    return objectives, xs\n"
   ]
  },
  {
   "cell_type": "code",
   "execution_count": null,
   "metadata": {},
   "outputs": [],
   "source": [
    "alpha = 0.1 # Tasso di apprendimento\n",
    "beta1 = 0.9    # Coefficiente per il momento del primo ordine\n",
    "beta2 = 0.999  # Coefficiente per il momento del secondo ordine\n",
    "epsilon = 1e-8 # Termine di regolarizzazione\n",
    "max_iters = 50\n",
    "initial_x = np.zeros(A.shape[1])\n",
    "objectives, xs = adam(A, initial_x, b, max_iters, alpha, beta1, beta2, epsilon)\n",
    "plt.plot(range(len(objectives)), objectives,'purple', label='gradient descent assuming smoothness')"
   ]
  }
 ],
 "metadata": {
  "kernelspec": {
   "display_name": "base",
   "language": "python",
   "name": "python3"
  },
  "language_info": {
   "codemirror_mode": {
    "name": "ipython",
    "version": 3
   },
   "file_extension": ".py",
   "mimetype": "text/x-python",
   "name": "python",
   "nbconvert_exporter": "python",
   "pygments_lexer": "ipython3",
   "version": "3.11.4"
  }
 },
 "nbformat": 4,
 "nbformat_minor": 2
}
